{
 "cells": [
  {
   "cell_type": "code",
   "execution_count": 1,
   "metadata": {},
   "outputs": [],
   "source": [
    "%load_ext autoreload\n",
    "%autoreload 2"
   ]
  },
  {
   "cell_type": "code",
   "execution_count": 2,
   "metadata": {},
   "outputs": [],
   "source": [
    "import numpy as np\n",
    "import matplotlib.pyplot as plt\n",
    "import simtk.openmm as mm\n",
    "from simtk import unit\n",
    "from openmmtools.testsystems import LennardJonesFluid\n",
    "from uibcdf_test_systems.simulation import langevin_NVT\n",
    "from tqdm import tqdm"
   ]
  },
  {
   "cell_type": "markdown",
   "metadata": {},
   "source": [
    "Torrie, G. M., & Valleau, J. P. (1977). Nonphysical sampling distributions in Monte Carlo free-energy estimation: Umbrella sampling. Journal of Computational Physics, 23(2), 187–199.\n",
    "doi:10.1016/0021-9991(77)90121-8 "
   ]
  },
  {
   "cell_type": "markdown",
   "metadata": {},
   "source": [
    "## Lennard-Jones Potential"
   ]
  },
  {
   "cell_type": "code",
   "execution_count": 3,
   "metadata": {},
   "outputs": [],
   "source": [
    "def LJ_potential(distance, sigma, epsilon):\n",
    "    q=sigma/distance\n",
    "    q6=q**6\n",
    "    q12=q6**2\n",
    "    return 4.0*epsilon*(q12-q6)"
   ]
  },
  {
   "cell_type": "code",
   "execution_count": 4,
   "metadata": {},
   "outputs": [],
   "source": [
    "sigma = 3.4*unit.angstrom\n",
    "epsilon = 0.238 * unit.kilocalories_per_mole"
   ]
  },
  {
   "cell_type": "code",
   "execution_count": 5,
   "metadata": {},
   "outputs": [],
   "source": [
    "dd = np.linspace(0.001,3.0, 200, endpoint=True)*sigma"
   ]
  },
  {
   "cell_type": "code",
   "execution_count": 6,
   "metadata": {},
   "outputs": [
    {
     "data": {
      "text/plain": [
       "(-1.0, 4.0)"
      ]
     },
     "execution_count": 6,
     "metadata": {},
     "output_type": "execute_result"
    },
    {
     "data": {
      "image/png": "[encoded data removed]",
      "text/plain": [
       "<Figure size 432x288 with 1 Axes>"
      ]
     },
     "metadata": {
      "needs_background": "light"
     },
     "output_type": "display_data"
    }
   ],
   "source": [
    "plt.plot(dd,LJ_potential(dd, sigma, epsilon))\n",
    "plt.ylim(-1.0,4.0)"
   ]
  },
  {
   "cell_type": "code",
   "execution_count": 46,
   "metadata": {},
   "outputs": [],
   "source": [
    "# number particles larger than the system in the paper\n",
    "LJfluid = LennardJonesFluid(nparticles=216, sigma=sigma, epsilon=epsilon, reduced_density=0.2) #reduced_density=0.85"
   ]
  },
  {
   "cell_type": "markdown",
   "metadata": {},
   "source": [
    "Periodic box and cut-off:"
   ]
  },
  {
   "cell_type": "code",
   "execution_count": 47,
   "metadata": {},
   "outputs": [
    {
     "data": {
      "text/plain": [
       "[Quantity(value=Vec3(x=3.4883509312204612, y=0.0, z=0.0), unit=nanometer),\n",
       " Quantity(value=Vec3(x=0.0, y=3.4883509312204612, z=0.0), unit=nanometer),\n",
       " Quantity(value=Vec3(x=0.0, y=0.0, z=3.4883509312204612), unit=nanometer)]"
      ]
     },
     "execution_count": 47,
     "metadata": {},
     "output_type": "execute_result"
    }
   ],
   "source": [
    "LJfluid.system.getDefaultPeriodicBoxVectors()"
   ]
  },
  {
   "cell_type": "code",
   "execution_count": 48,
   "metadata": {},
   "outputs": [
    {
     "data": {
      "text/plain": [
       "Quantity(value=1.02, unit=nanometer)"
      ]
     },
     "execution_count": 48,
     "metadata": {},
     "output_type": "execute_result"
    }
   ],
   "source": [
    "ff=LJfluid.system.getForces()\n",
    "ff[0].getCutoffDistance() # 3 x sigma"
   ]
  },
  {
   "cell_type": "markdown",
   "metadata": {},
   "source": [
    "Critical temperature:"
   ]
  },
  {
   "cell_type": "code",
   "execution_count": 49,
   "metadata": {},
   "outputs": [
    {
     "name": "stdout",
     "output_type": "stream",
     "text": [
      "Temperature 328.15913329971914 K\n"
     ]
    }
   ],
   "source": [
    "kBTc = 2.74*epsilon\n",
    "kB = unit.BOLTZMANN_CONSTANT_kB * unit.AVOGADRO_CONSTANT_NA\n",
    "Tc = (kBTc/kB).in_units_of(unit.kelvin)\n",
    "print('Temperature {}'.format(Tc))"
   ]
  },
  {
   "cell_type": "code",
   "execution_count": 11,
   "metadata": {},
   "outputs": [],
   "source": [
    "collision_rate = 5/unit.picoseconds\n",
    "timestep = 2.5*unit.femtoseconds"
   ]
  },
  {
   "cell_type": "markdown",
   "metadata": {},
   "source": [
    "### Simulation"
   ]
  },
  {
   "cell_type": "code",
   "execution_count": 50,
   "metadata": {},
   "outputs": [
    {
     "name": "stdout",
     "output_type": "stream",
     "text": [
      "Minimizing energy...\n"
     ]
    }
   ],
   "source": [
    "# Thermodinamic state\n",
    "T = 300.0*unit.kelvin\n",
    "\n",
    "## Energy Minimization\n",
    "\n",
    "# Integrator\n",
    "collision_rate = 5/unit.picoseconds\n",
    "timestep = 2.5*unit.femtoseconds\n",
    "integrator = mm.LangevinIntegrator(T, collision_rate, timestep)\n",
    "\n",
    "# Create a context\n",
    "context = mm.Context(LJfluid.system, integrator)\n",
    "context.setPositions(LJfluid.positions)\n",
    "\n",
    "# Minimize energy\n",
    "print('Minimizing energy...')\n",
    "mm.LocalEnergyMinimizer.minimize(context)"
   ]
  },
  {
   "cell_type": "code",
   "execution_count": 51,
   "metadata": {},
   "outputs": [],
   "source": [
    "state = context.getState(getPositions=True)"
   ]
  },
  {
   "cell_type": "code",
   "execution_count": 52,
   "metadata": {},
   "outputs": [],
   "source": [
    "initial_positions = state.getPositions()"
   ]
  },
  {
   "cell_type": "markdown",
   "metadata": {},
   "source": [
    "## Simulation"
   ]
  },
  {
   "cell_type": "code",
   "execution_count": 53,
   "metadata": {},
   "outputs": [
    {
     "name": "stderr",
     "output_type": "stream",
     "text": [
      "100%|██████████| 519/519 [00:23<00:00, 22.23it/s]\n"
     ]
    }
   ],
   "source": [
    "time, _, _, _, potential_energy = langevin_NVT(LJfluid.system, temperature=300*unit.kelvin, friction=5/unit.picoseconds,\n",
    "                                               initial_positions=initial_positions, integration_timestep=2.5*unit.femtoseconds,\n",
    "                                               saving_timestep=1*unit.picoseconds, total_time=520*unit.picoseconds)"
   ]
  },
  {
   "cell_type": "code",
   "execution_count": 54,
   "metadata": {},
   "outputs": [
    {
     "data": {
      "image/png": "[encoded data removed]",
      "text/plain": [
       "<Figure size 432x288 with 1 Axes>"
      ]
     },
     "metadata": {
      "needs_background": "light"
     },
     "output_type": "display_data"
    }
   ],
   "source": [
    "plt.plot(time, potential_energy)\n",
    "plt.show()"
   ]
  },
  {
   "cell_type": "code",
   "execution_count": 55,
   "metadata": {},
   "outputs": [
    {
     "data": {
      "text/plain": [
       "Quantity(value=-63.049553, unit=kilocalorie/mole)"
      ]
     },
     "execution_count": 55,
     "metadata": {},
     "output_type": "execute_result"
    }
   ],
   "source": [
    "potential_energy[20:].mean()"
   ]
  },
  {
   "cell_type": "code",
   "execution_count": 56,
   "metadata": {},
   "outputs": [
    {
     "data": {
      "text/plain": [
       "Quantity(value=2.975062, unit=kilocalorie/mole)"
      ]
     },
     "execution_count": 56,
     "metadata": {},
     "output_type": "execute_result"
    }
   ],
   "source": [
    "potential_energy[20:].std()"
   ]
  },
  {
   "cell_type": "code",
   "execution_count": 57,
   "metadata": {},
   "outputs": [
    {
     "name": "stderr",
     "output_type": "stream",
     "text": [
      "100%|██████████| 40/40 [06:10<00:00,  9.26s/it]\n"
     ]
    }
   ],
   "source": [
    "temperatures = np.linspace(100,500,40)*unit.kelvin\n",
    "n_temperatures = len(temperatures)\n",
    "mean_potential_energies = np.zeros(n_temperatures)*unit.kilocalorie_per_mole\n",
    "std_potential_energies = np.zeros(n_temperatures)*unit.kilocalorie_per_mole\n",
    "\n",
    "for ii in tqdm(range(n_temperatures)):\n",
    "    T = temperatures[ii]\n",
    "    _, _, _, _, potential_energy = langevin_NVT(LJfluid.system, temperature=T, friction=5/unit.picoseconds,\n",
    "                                                initial_positions=initial_positions, integration_timestep=2.5*unit.femtoseconds,\n",
    "                                                saving_timestep=1*unit.picoseconds, total_time=220*unit.picoseconds, verbose=False)\n",
    "    mean_potential_energies[ii] = potential_energy[20:].mean()\n",
    "    std_potential_energies[ii] = potential_energy[20:].std()"
   ]
  },
  {
   "cell_type": "code",
   "execution_count": 58,
   "metadata": {},
   "outputs": [
    {
     "data": {
      "text/plain": [
       "<matplotlib.collections.PathCollection at 0x7f46cd1ae450>"
      ]
     },
     "execution_count": 58,
     "metadata": {},
     "output_type": "execute_result"
    },
    {
     "data": {
      "image/png": "[encoded data removed]",
      "text/plain": [
       "<Figure size 432x288 with 1 Axes>"
      ]
     },
     "metadata": {
      "needs_background": "light"
     },
     "output_type": "display_data"
    }
   ],
   "source": [
    "plt.scatter(temperatures, mean_potential_energies/epsilon/216)"
   ]
  },
  {
   "cell_type": "code",
   "execution_count": 59,
   "metadata": {},
   "outputs": [
    {
     "data": {
      "text/plain": [
       "<matplotlib.collections.PathCollection at 0x7f46cd1ae3d0>"
      ]
     },
     "execution_count": 59,
     "metadata": {},
     "output_type": "execute_result"
    },
    {
     "data": {
      "image/png": "[encoded data removed]",
      "text/plain": [
       "<Figure size 432x288 with 1 Axes>"
      ]
     },
     "metadata": {
      "needs_background": "light"
     },
     "output_type": "display_data"
    }
   ],
   "source": [
    "plt.scatter(temperatures, std_potential_energies)"
   ]
  },
  {
   "cell_type": "code",
   "execution_count": null,
   "metadata": {},
   "outputs": [],
   "source": [
    "## ver:\n",
    "https://github.com/choderalab/openmm7tutorials/tree/master/alchemical-free-energy\n",
    "http://openmm.org/tutorials/alchemical-free-energy/\n",
    "https://openmmtools.readthedocs.io/en/latest/api/generated/openmmtools.testsystems.LennardJonesFluid.html\n",
    "https://openmmtools.readthedocs.io/en/latest/testsystems.html\n",
    "https://github.com/choderalab/openmmtools/blob/master/openmmtools/testsystems.py\n",
    "    \n"
   ]
  },
  {
   "cell_type": "code",
   "execution_count": null,
   "metadata": {},
   "outputs": [],
   "source": []
  }
 ],
 "metadata": {
  "kernelspec": {
   "display_name": "Python 3",
   "language": "python",
   "name": "python3"
  },
  "language_info": {
   "codemirror_mode": {
    "name": "ipython",
    "version": 3
   },
   "file_extension": ".py",
   "mimetype": "text/x-python",
   "name": "python",
   "nbconvert_exporter": "python",
   "pygments_lexer": "ipython3",
   "version": "3.7.6"
  }
 },
 "nbformat": 4,
 "nbformat_minor": 4
}
