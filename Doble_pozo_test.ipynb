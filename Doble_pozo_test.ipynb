{
 "cells": [
  {
   "cell_type": "code",
   "execution_count": 1,
   "metadata": {},
   "outputs": [],
   "source": [
    "import numpy as np\n",
    "import sympy as sy\n",
    "import matplotlib.pyplot as plt\n",
    "import simtk.openmm as mm\n",
    "import simtk.unit as unit\n",
    "import simtk.openmm.app as app\n",
    "from tqdm import tqdm"
   ]
  },
  {
   "cell_type": "markdown",
   "metadata": {},
   "source": [
    "# Una partícula en un doble pozo unidimensional asimétrico\n",
    "\n",
    "Supongamos que tenemos una partícula de masa $m$ en un doble pozo asimétrico de potencial."
   ]
  },
  {
   "cell_type": "code",
   "execution_count": null,
   "metadata": {},
   "outputs": [],
   "source": [
    "m = 14.007 * unit.amu # masa del átomo N"
   ]
  },
  {
   "cell_type": "markdown",
   "metadata": {},
   "source": [
    "En principio, podemos imaginar que la partícula habita un espacio tridimensional. ¿Cómo sería un doble pozo en tres dimensiones? Lo podemos representar como un potencial harmónico en las dimensiones $Y$ y $Z$ para confinar la partícula a un espacio definido al rededor del mínimo que situaremos en $y=0$ y $z=0$.\n",
    "\n",
    "\\begin{equation*}\n",
    "V(y,z) = \\frac{1}{2}  (y^{2}+z^{2})\n",
    "\\end{equation*}\n",
    "\n",
    "Para entender un poco de la física de una partícula en un potencial armónico podemos echar un vistazo a [la unidad del repositorio UIBCDF-Academia dedicada a este caso](https://github.com/uibcdf/Academia/blob/master/Ejemplos_de_simulaciones_de_MD/Pozo_Harmónico.ipynb) o [el ejemplo que encontramos en la guía de uso de la librería UIBCDF_test_systems](http://www.uibcdf.org/UIBCDF_test_systems/_build/systems/harmonic_well_potential.html). Hagamos aquí un breve resumen haciendo énfasis en aquello que nos concierne para este notebook. Veamos el potencial unidimensional a lo largo del eje $Y$.\n",
    "\n",
    "## El potencial armónico para Y y Z\n",
    "\n",
    "El potencial armónico en cualquiera de las dos dimensiones, $Y$ o $Z$, toma la siguiente forma:\n",
    "\n",
    "\\begin{equation*}\n",
    "V(y) = \\frac{1}{2} k y^{2}\n",
    "\\end{equation*}"
   ]
  },
  {
   "cell_type": "code",
   "execution_count": null,
   "metadata": {},
   "outputs": [],
   "source": [
    "def harmonic_well(x,k):\n",
    "    return 0.5*k*x**2"
   ]
  },
  {
   "cell_type": "markdown",
   "metadata": {},
   "source": [
    "Donde la constante $k$ del pozo la podemos definir como:"
   ]
  },
  {
   "cell_type": "code",
   "execution_count": null,
   "metadata": {},
   "outputs": [],
   "source": [
    "k=20.0 * unit.kilocalories_per_mole/ unit.nanometers**2"
   ]
  },
  {
   "cell_type": "markdown",
   "metadata": {},
   "source": [
    "Para representar gráficamente el potencial tomemos un conjunto de puntos a lo largo del eje $Y$ y veamos su correspondiente valor de potencial $V(y)$:"
   ]
  },
  {
   "cell_type": "code",
   "execution_count": null,
   "metadata": {},
   "outputs": [],
   "source": [
    "y_serie = np.arange(-5., 5., 0.05) * unit.nanometers\n",
    "Vy_serie = harmonic_well(y_serie, k)"
   ]
  },
  {
   "cell_type": "code",
   "execution_count": null,
   "metadata": {},
   "outputs": [],
   "source": [
    "plt.plot(y_serie, Vy_serie, 'r-')\n",
    "plt.ylim(-1,7)\n",
    "plt.xlim(-1,1)\n",
    "plt.xlabel(\"y [{}]\".format(y_serie.unit.get_symbol()))\n",
    "plt.ylabel(\"V(y) [{}]\".format(Vy_serie.unit.get_symbol()))\n",
    "plt.rcParams['figure.figsize'] = 6,4\n",
    "plt.show()"
   ]
  },
  {
   "cell_type": "markdown",
   "metadata": {},
   "source": [
    "Necesitamos conocer cual es el periodo de oscilación de una partícula libre en el pozo definido por nuestro valor de $k$. ¿Por qué? porque nuestro paso de integración tiene que ser inferior a dicho periodo. No únicamente por si queremos simular el comportamiento dinámico oscilatorio clásico a temperatura $T=0$ de nuestra partícula, sino porque si nuestro paso de integración es mayor o comparable al periodo comenzaremos a tener graves problemas de integración numérica (ver [el notebook de UIBCDF-Academia dedicado al paso de integración]).\n",
    "\n",
    "Calcular el periodo de las oscilaciones entorno al mínimo de una partícula en un régimen determinista en este caso es trivial, conocemos la relación entre la frecuencia angular de las oscilaciones, y la constante elástica $k$ de nuestro pozo:\n",
    "\n",
    "\\begin{equation*}\n",
    "\\omega = \\sqrt(\\frac{k}{m}),\n",
    "\\end{equation*}\n",
    "\n",
    "donde $m$ es la masa de la partícula. O dado que el periodo $T$ esta relacionado con la inversa de la frecuencia angular según:\n",
    "\n",
    "\\begin{equation*}\n",
    "T = \\frac{2\\pi}{\\omega}\n",
    "\\end{equation*}\n",
    "\n",
    "Tenemos que:\n",
    "\n",
    "\\begin{equation*}\n",
    "T = 2\\pi \\sqrt{\\frac{m}{k}}\n",
    "\\end{equation*}\n",
    "\n",
    "Pero, qué haríamos si no conocieramos la expresión analítica del periodo. En el caso de que nuestro potencial no sea un pozo armónico, sabemos que al menos las pequeñas oscilaciones de una partícula entorno a un mínimo si se aproximan a las oscilaciones de un pozo armónico. Podemos acercarnos al valor del periodo de dichas oscilaciones atendiendo a la segunda derivada del potencial. Cualquier función puede ser aproximada en sus mínimos a pozos armónicos, así entonces el valor de la segunda derivada de un potencial en un mínimo es igual a la frecuencia angular $\\omega$ de las pequeñas oscilaciones (ver el notebook XXX)."
   ]
  },
  {
   "cell_type": "code",
   "execution_count": null,
   "metadata": {},
   "outputs": [],
   "source": [
    "x = sy.symbols('x')\n",
    "f=0.5*k*x**2\n",
    "g=sy.diff(f,x)\n",
    "gg=sy.diff(f,x,x)\n",
    "roots_diff=sy.roots(g,x)\n",
    "\n",
    "print('Calculamos las raices:')\n",
    "print('')\n",
    "print('Función:',f)\n",
    "print('Primera derivada:',g)\n",
    "print('Segunda derivada:',gg)\n",
    "\n",
    "roots_yz=[]\n",
    "for root in roots_diff.keys():\n",
    "    effective_k=gg.subs(x,root)\n",
    "    if effective_k>0:\n",
    "        roots_yz.append(root)\n",
    "        T = 2*np.pi*np.sqrt(m/(effective_k * unit.kilocalories_per_mole/unit.nanometers**2))\n",
    "        print('Minimo en coordenada',root*unit.nanometers,'con k effectiva',effective_k* unit.kilocalories_per_mole/unit.angstrom**2,\n",
    "        ' y un periodo T de oscilación',T)"
   ]
  },
  {
   "cell_type": "markdown",
   "metadata": {},
   "source": [
    "Ya tenemos una idea de qué sucederá en los ejes $Y$ y $Z$. Dos hechos son relevantes. La partícula estará confinada por una trampa bidimensional armónica. Y el paso de integración no debería ser según el potencial en $Y$ y $Z$ mayor que $\\sim T/10$:"
   ]
  },
  {
   "cell_type": "code",
   "execution_count": null,
   "metadata": {},
   "outputs": [],
   "source": [
    "print('El paso del integrador debe ser aproximadamente',T/10, 'o menor.')"
   ]
  },
  {
   "cell_type": "markdown",
   "metadata": {},
   "source": [
    "## El doble pozo asimétrico para X\n",
    "\n",
    "Podemos encontrar una descripción detallada del doble pozo asimétrico unidimensional en la unidad de [UIBCDF-Academia dedicada a este sistema]() o en [la guía de uso de dicho potencial en UIBCDF_Test_Systems](http://www.uibcdf.org/UIBCDF_test_systems/_build/systems/double_well_potential.html). Hagamos aquí una revisión breve y empecemos por ver la forma del potencial doble pozo unidimensional:\n",
    "\n",
    "\\begin{equation*}\n",
    "V(x) = Ax^{4} + Bx^{2} + Cx\n",
    "\\end{equation*}\n",
    "\n",
    "Las constantes $A$, $B$ y $C$ que definen el polinomio no tienen así un sentido inmediato. Únicamente $C$ podemos interpretarlo como el responsable de escalar el término que hará que el doble pozo sea más o menos asimétrico. De hecho, si $C=0$ la expresión describe un doble pozo simétrico.\n",
    "\n",
    "Reescribamos este doble pozo para que nos sea fácil jugar a incrementar la barrera, separar los mínimos o subir o bajar uno de los pozos con respecto al otro:\n",
    "\n",
    "\\begin{equation*}\n",
    "V(x)=E_{0} \\left[ \\left(\\frac{x}{a}\\right)^4 -2\\left(\\frac{x}{a}\\right)^2 \\right]-\\frac{b}{a}x\n",
    "\\end{equation*}\n",
    "\n",
    "De esta manera la distancia de los mínimos respecto a $x=0$ viene dada por $a$ y la altura de la barrera para el pozo izquierdo está aproximada por $E_{0}-b$ mientras que para el pozo derecho está aproximada por $E_{0}+b$. Veamos un ejemplo con el que podemos jugar a modificar el valor de dichas constantes:"
   ]
  },
  {
   "cell_type": "code",
   "execution_count": null,
   "metadata": {},
   "outputs": [],
   "source": [
    "def double_well(x,Eo,a,b):\n",
    "    return Eo*((x/a)**4-2*(x/a)**2)-(b/a)*x"
   ]
  },
  {
   "cell_type": "code",
   "execution_count": null,
   "metadata": {},
   "outputs": [],
   "source": [
    "Eo=4.0 * unit.kilocalories_per_mole\n",
    "a=1.0 * unit.nanometers\n",
    "b=0.25 * unit.kilocalories_per_mole\n",
    "\n",
    "x_serie = np.arange(-5., 5., 0.05) * unit.nanometers\n",
    "Vx_serie = double_well(x_serie, Eo, a, b)\n",
    "\n",
    "plt.plot(x_serie, Vx_serie, 'r-')\n",
    "plt.ylim(-5,1)\n",
    "plt.xlim(-2,2)\n",
    "plt.xlabel(\"x [{}]\".format(x_serie.unit.get_symbol()))\n",
    "plt.ylabel(\"V(x) [{}]\".format(Vx_serie.unit.get_symbol()))\n",
    "plt.rcParams['figure.figsize'] = 6,4\n",
    "plt.show()"
   ]
  },
  {
   "cell_type": "markdown",
   "metadata": {},
   "source": [
    "Debemos ahora estudiar de nuevo el periodo de las pequeñas oscilaciones entorno a los mínimo. Este número nos dará una referencia de la escala de tiempo más corta en la situación más desfavorable, el sistema a muy baja temperatura o a temperatura cero desplazandose en el entorno más proximo a uno de los mínimos:"
   ]
  },
  {
   "cell_type": "code",
   "execution_count": null,
   "metadata": {},
   "outputs": [],
   "source": [
    "x = sy.symbols('x')\n",
    "f = Eo*((x*unit.nanometers/a)**4-2*(x*unit.nanometers/a)**2) - (b/a)*x*unit.nanometers\n",
    "\n",
    "\n",
    "g=sy.diff(f,x)\n",
    "gg=sy.diff(f,x,x)\n",
    "roots_diff=sy.roots(g,x)\n",
    "\n",
    "print('Calculamos las raices:')\n",
    "print('')\n",
    "print('Función:',f)\n",
    "print('Primera derivada:',g)\n",
    "print('Segunda derivada:',gg)\n",
    "\n",
    "Ts=[]\n",
    "roots_x=[]\n",
    "for root in roots_diff.keys():\n",
    "    effective_k=gg.subs(x,root)\n",
    "    if effective_k>0:\n",
    "        roots_x.append(root)\n",
    "        T = 2*np.pi*np.sqrt(m/(effective_k * unit.kilocalories_per_mole/unit.nanometer**2))\n",
    "        Ts.append(T)\n",
    "        print('Minimo en coordenada',root * unit.nanometer,'con k effectiva',effective_k*unit.kilocalories_per_mole/unit.nanometer**2,\n",
    "              'y un periodo T de oscilación',T)"
   ]
  },
  {
   "cell_type": "markdown",
   "metadata": {},
   "source": [
    "Estos valores de los periodos de las pequeñas oscilaciones entorno a los mínimos nos da otra cota máximas ($\\sim T/10$) para el paso de tiempo del integrador:"
   ]
  },
  {
   "cell_type": "code",
   "execution_count": null,
   "metadata": {},
   "outputs": [],
   "source": [
    "print('El paso del integrador debe ser aproximadamente',np.min(Ts)/10, 'o menor.')"
   ]
  },
  {
   "cell_type": "markdown",
   "metadata": {},
   "source": [
    "## La dinámica de Langevin de nuestro sistema\n",
    "\n",
    "Dado que vamos a simular con Openmm una partícula de masa $m$ en el doble pozo asimétrico descrito anteriormente, veamos en primer lugar cómo crear el sistema u objeto `System`:"
   ]
  },
  {
   "cell_type": "code",
   "execution_count": null,
   "metadata": {},
   "outputs": [],
   "source": [
    "system = mm.System()\n",
    "mass   = m # la masa fue definida anteriormente\n",
    "system.addParticle(mass)"
   ]
  },
  {
   "cell_type": "markdown",
   "metadata": {},
   "source": [
    "Añadamos ahora el potencial externo:"
   ]
  },
  {
   "cell_type": "code",
   "execution_count": null,
   "metadata": {},
   "outputs": [],
   "source": [
    "# Las constantes k, Eo, a, y b fueron definidas con anterioridad\n",
    "\n",
    "A = Eo/(a**4)\n",
    "B = -2.0*Eo/(a**2)\n",
    "C = -b/a\n",
    "D = k/2.0\n",
    "\n",
    "force = mm.CustomExternalForce('A*x^4+B*x^2+C*x + D*(y^2+z^2)')\n",
    "force.addGlobalParameter('A', A)\n",
    "force.addGlobalParameter('B', B)\n",
    "force.addGlobalParameter('C', C)\n",
    "force.addGlobalParameter('D', D)\n",
    "force.addParticle(0, [])\n",
    "system.addForce(force)\n"
   ]
  },
  {
   "cell_type": "markdown",
   "metadata": {},
   "source": [
    "Ya podemos proceder a simular la dinámica de langevin de nuestro sistema a la temperatura y con la fricción deseadas."
   ]
  },
  {
   "cell_type": "code",
   "execution_count": null,
   "metadata": {},
   "outputs": [],
   "source": [
    "# Parametros del estado termodinámico NVT\n",
    "temperature = 300*unit.kelvin"
   ]
  },
  {
   "cell_type": "code",
   "execution_count": null,
   "metadata": {},
   "outputs": [],
   "source": [
    "# Parametros de la simulación\n",
    "step_size       = 0.2*unit.picoseconds\n",
    "num_steps       = 100000\n",
    "saving_period   = 50\n",
    "num_steps_saved = int(num_steps/saving_period)"
   ]
  },
  {
   "cell_type": "code",
   "execution_count": null,
   "metadata": {},
   "outputs": [],
   "source": [
    "# Integrador de Langevin\n",
    "friction   = 1.0/unit.picosecond\n",
    "integrator = mm.LangevinIntegrator(temperature, friction, step_size)"
   ]
  },
  {
   "cell_type": "code",
   "execution_count": null,
   "metadata": {},
   "outputs": [],
   "source": [
    "# Plataforma de ejecución\n",
    "platform_name = 'CUDA'\n",
    "platform = mm.Platform.getPlatformByName(platform_name)"
   ]
  },
  {
   "cell_type": "code",
   "execution_count": null,
   "metadata": {},
   "outputs": [],
   "source": [
    "# Reporteros\n",
    "times      = unit.Quantity(np.zeros([num_steps_saved], np.float32), unit.picoseconds)\n",
    "positions  = unit.Quantity(np.zeros([num_steps_saved,3], np.float32), unit.nanometers)\n",
    "velocities = unit.Quantity(np.zeros([num_steps_saved,3], np.float32), unit.nanometers/unit.picosecond)\n",
    "potential_energies   = unit.Quantity(np.zeros([num_steps_saved], np.float32), unit.kilocalories_per_mole)\n",
    "kinetic_energies     = unit.Quantity(np.zeros([num_steps_saved], np.float32), unit.kilocalories_per_mole)"
   ]
  },
  {
   "cell_type": "code",
   "execution_count": null,
   "metadata": {},
   "outputs": [],
   "source": [
    "# Condiciones iniciales y contexto\n",
    "initial_positions  = [[0.0, 0.0, 0.0]] * unit.nanometers\n",
    "initial_velocities = [[0.0, 0.0, 0.0]] * unit.nanometers/unit.picoseconds\n",
    "context = mm.Context(system, integrator, platform)\n",
    "context.setPositions(initial_positions)\n",
    "context.setVelocities(initial_velocities)"
   ]
  },
  {
   "cell_type": "code",
   "execution_count": null,
   "metadata": {},
   "outputs": [],
   "source": [
    "# Estado\n",
    "state = context.getState(getEnergy=True, getPositions=True, getVelocities=True)\n",
    "times[0] = state.getTime()\n",
    "positions[0] = state.getPositions()[0]\n",
    "velocities[0] = state.getVelocities()[0]\n",
    "kinetic_energies[0]=state.getKineticEnergy()\n",
    "potential_energies[0]=state.getPotentialEnergy()"
   ]
  },
  {
   "cell_type": "code",
   "execution_count": null,
   "metadata": {},
   "outputs": [],
   "source": [
    "# Integración de la dinámica\n",
    "for ii in tqdm(range(num_steps_saved)):\n",
    "    context.getIntegrator().step(saving_period)\n",
    "    state = context.getState(getEnergy=True, getPositions=True, getVelocities=True)\n",
    "    times[ii] = state.getTime()\n",
    "    positions[ii] = state.getPositions()[0]\n",
    "    velocities[ii] = state.getVelocities()[0]\n",
    "    kinetic_energies[ii]=state.getKineticEnergy()\n",
    "    potential_energies[ii]=state.getPotentialEnergy()"
   ]
  },
  {
   "cell_type": "code",
   "execution_count": null,
   "metadata": {},
   "outputs": [],
   "source": [
    "plt.rcParams['figure.figsize'] = 18, 4\n",
    "for ii, ylabel in zip(range(3),['X','Y','Z']):\n",
    "    plt.plot(times,positions[:,ii])\n",
    "    plt.ylabel(ylabel)\n",
    "    plt.xlabel('time')\n",
    "    plt.show()"
   ]
  },
  {
   "cell_type": "markdown",
   "metadata": {},
   "source": [
    "La partícula en un potencial unidimensional de doble pozo es un sistema ideal como banco de pruebas. Para evitar reescribir todo el proceso anterior cada vez que queramos jugar con este sistema, en la UIBCDF lo hemos incluido en una librería llamada [UIBCDF_test_systems](http://www.uibcdf.org/UIBCDF_test_systems). Veremos a continuación que con pocas lineas podemos simular el sistema anterior (ver [la sección dedicada a este potencial en la web de UIBCDF_test_systems](http://www.uibcdf.org/UIBCDF_test_systems/_build/systems/double_well_potential.html)). "
   ]
  },
  {
   "cell_type": "code",
   "execution_count": 4,
   "metadata": {},
   "outputs": [],
   "source": [
    "from uibcdf_test_systems import DoubleWell\n",
    "from uibcdf_test_systems.simulation import langevin_NVT\n",
    "\n",
    "double_well_asymmetric = DoubleWell(n_particles = 1, mass = 14.007 * unit.amu, Eo=4.0 * unit.kilocalories_per_mole,\n",
    "                                    a=1.0 * unit.nanometers, b=0.25 * unit.kilocalories_per_mole)\n",
    "\n",
    "initial_positions =  np.zeros([1, 3], np.float32) * unit.nanometers\n",
    "initial_positions[0,0] = 1.1 * unit.nanometers\n",
    "initial_velocities = np.zeros([1, 3], np.float32) * unit.nanometers/unit.picoseconds\n",
    "\n",
    "times, positions, velocities, kinetic_energies, potential_energies = langevin_NVT (double_well_asymmetric.system,\n",
    "                                                                                   temperature = 300*unit.kelvin,\n",
    "                                                                                   friction = 1.0/unit.picoseconds,\n",
    "                                                                                   initial_positions = initial_positions,\n",
    "                                                                                   initial_velocities = initial_velocities,\n",
    "                                                                                   integration_timestep = 0.2 * unit.picoseconds,\n",
    "                                                                                   saving_timestep = 10.0 * unit.picoseconds,\n",
    "                                                                                   total_time = 200 * unit.nanoseconds,\n",
    "                                                                                   platform_name='CUDA')"
   ]
  },
  {
   "cell_type": "code",
   "execution_count": 5,
   "metadata": {},
   "outputs": [
    {
     "data": {
      "image/png": "[encoded data removed]",
      "text/plain": [
       "<Figure size 1296x288 with 1 Axes>"
      ]
     },
     "metadata": {
      "needs_background": "light"
     },
     "output_type": "display_data"
    },
    {
     "data": {
      "image/png": "[encoded data removed]",
      "text/plain": [
       "<Figure size 1296x288 with 1 Axes>"
      ]
     },
     "metadata": {
      "needs_background": "light"
     },
     "output_type": "display_data"
    },
    {
     "data": {
      "image/png": "[encoded data removed]",
      "text/plain": [
       "<Figure size 1296x288 with 1 Axes>"
      ]
     },
     "metadata": {
      "needs_background": "light"
     },
     "output_type": "display_data"
    }
   ],
   "source": [
    "plt.rcParams['figure.figsize'] = 18, 4\n",
    "for ii, ylabel in zip(range(3),['X','Y','Z']):\n",
    "    plt.plot(times,positions[:,0,ii])\n",
    "    plt.ylabel(ylabel+' [{}]'.format(positions.unit.get_symbol()))\n",
    "    plt.xlabel('time [{}]'.format(times.unit.get_symbol()))\n",
    "    plt.show()"
   ]
  },
  {
   "cell_type": "markdown",
   "metadata": {},
   "source": [
    "## Distribución de Probabilidad sobre el eje X"
   ]
  },
  {
   "cell_type": "markdown",
   "metadata": {},
   "source": [
    "### Densidad de probabilidad discreta $P_{x}$ de la simulación"
   ]
  },
  {
   "cell_type": "markdown",
   "metadata": {},
   "source": [
    "Veamos ahora cual es la distribución de probabilidad $P(x)$ recogida de la trayectoria resultado de una simulación. Comencemos con el histograma que recoge el número de veces que la trayectoria visita un segmento determinado de anchura $delta_x$. Para ello definimos la discretización de la región en el eje $X$ entre un límite mínimo y un límite máximo en $x$ en un número de determinado de segmentos o bins. "
   ]
  },
  {
   "cell_type": "code",
   "execution_count": 64,
   "metadata": {},
   "outputs": [
    {
     "data": {
      "image/png": "[encoded data removed]",
      "text/plain": [
       "<Figure size 1296x288 with 1 Axes>"
      ]
     },
     "metadata": {
      "needs_background": "light"
     },
     "output_type": "display_data"
    }
   ],
   "source": [
    "# Numpy cuenta con una función para calcular histogramas\n",
    "\n",
    "limite_minimo_x = -2.0 * unit.nanometers\n",
    "limite_maximo_x = 2.0 * unit.nanometers\n",
    "n_bins = 200\n",
    "delta_x = (limite_maximo_x - limite_minimo_x)/n_bins \n",
    "\n",
    "histograma, bin_limites = np.histogram(positions[:,0,0]._value, bins=n_bins, range=[limite_minimo_x._value, limite_maximo_x._value])\n",
    "\n",
    "plt.bar(bin_limites[:-1], histograma, width = delta_x._value)\n",
    "plt.xlim(limite_minimo_x._value, limite_maximo_x._value)\n",
    "plt.show()"
   ]
  },
  {
   "cell_type": "markdown",
   "metadata": {},
   "source": [
    "Para calcular la distribución discreta sobre el eje $X$ de la probabilidad $P(x)$ únicamente necesitamos normalizar la distribución de tal manera que:\n",
    "\n",
    "\\begin{equation}\n",
    "1 = \\sum{P_{x_{i}} \\Delta x}\n",
    "\\end{equation}\n",
    "\n",
    "Que no es más que la \"discretización\" de la condición de cierre de la función de probabilidad $P(x)$:\n",
    "\n",
    "\\begin{equation}\n",
    "1 = \\int_{-\\infty}^{\\infty} {P(x) dx} \\approx\n",
    "\\int_{-2}^{2} {P(x) dx}\n",
    "\\end{equation}"
   ]
  },
  {
   "cell_type": "markdown",
   "metadata": {},
   "source": [
    "Para ello normalizamos la distribución:"
   ]
  },
  {
   "cell_type": "code",
   "execution_count": 53,
   "metadata": {},
   "outputs": [],
   "source": [
    "histograma_normalizado = (histograma/histograma.sum())"
   ]
  },
  {
   "cell_type": "markdown",
   "metadata": {},
   "source": [
    "De esta manera hemos normalizado la distribución, pero todavía no tenemos una distribución de densidad normalizada. Se cumple que:\n",
    "\n",
    "\\begin{equation}\n",
    "1 = \\sum{H_{x_{i}}}\n",
    "\\end{equation}\n",
    "\n",
    "Donde $H_{x_{i}}$ es el valor normalizado del histograma para la celda entre $x_{i}$ y $x_{i+1}$, pero:\n",
    "\n",
    "\\begin{equation}\n",
    "1 \\neq \\sum{H_{x_{i}} \\Delta x}\n",
    "\\end{equation}"
   ]
  },
  {
   "cell_type": "code",
   "execution_count": 54,
   "metadata": {},
   "outputs": [
    {
     "data": {
      "text/plain": [
       "1.0"
      ]
     },
     "execution_count": 54,
     "metadata": {},
     "output_type": "execute_result"
    }
   ],
   "source": [
    "histograma_normalizado.sum()"
   ]
  },
  {
   "cell_type": "markdown",
   "metadata": {},
   "source": [
    "Tenemos que dividir el valor $H_{x_{i}}$ para el valor de la anchura de la celda entre $x_{i}$ y $x_{i+1}$:"
   ]
  },
  {
   "cell_type": "code",
   "execution_count": 55,
   "metadata": {},
   "outputs": [],
   "source": [
    "densidad_histograma = histograma_normalizado / delta_x"
   ]
  },
  {
   "cell_type": "markdown",
   "metadata": {},
   "source": [
    "Ahora si podemos ver que:\n",
    "\n",
    "\\begin{equation}\n",
    "1 = \\sum{\\hat{H}_{x_{i}} \\Delta x}\n",
    "\\end{equation}"
   ]
  },
  {
   "cell_type": "code",
   "execution_count": 56,
   "metadata": {},
   "outputs": [
    {
     "data": {
      "text/plain": [
       "1.0"
      ]
     },
     "execution_count": 56,
     "metadata": {},
     "output_type": "execute_result"
    }
   ],
   "source": [
    "(densidad_histograma*delta_x).sum()"
   ]
  },
  {
   "cell_type": "markdown",
   "metadata": {},
   "source": [
    "Ahora si podemos interpretar $\\hat{H}_{x_{i}}$ como la distribución de probabilidad de ocupación $P_{xi}$ de la celda $[x_{i}, x_{i+1})$ de nuestro sistema recogido de la trayectoria."
   ]
  },
  {
   "cell_type": "code",
   "execution_count": 62,
   "metadata": {},
   "outputs": [
    {
     "data": {
      "image/png": "[encoded data removed]",
      "text/plain": [
       "<Figure size 1296x288 with 1 Axes>"
      ]
     },
     "metadata": {
      "needs_background": "light"
     },
     "output_type": "display_data"
    }
   ],
   "source": [
    "plt.bar(bin_limites[:-1], densidad_histograma._value, width = delta_x._value)\n",
    "plt.xlim(limite_minimo_x._value, limite_maximo_x._value)\n",
    "plt.show()"
   ]
  },
  {
   "cell_type": "markdown",
   "metadata": {},
   "source": [
    "Podríamos haber obtenido estos mismos valores de la densidad de probabilidad discreta $\\hat{H}_{x}$ acudiendo a las variables de entrada de la función `numpy.histogram`. Podemos obtener así la densidad del histograma normalizado:"
   ]
  },
  {
   "cell_type": "code",
   "execution_count": 69,
   "metadata": {},
   "outputs": [],
   "source": [
    "densidad_histograma_numpy, bin_limites = np.histogram(positions[:,0,0]._value, bins=n_bins, \n",
    "                                                      range=[limite_minimo_x._value, limite_maximo_x._value], density=True)\n",
    "densidad_histograma_numpy = densidad_histograma_numpy/unit.nanometers # Para darle dimensionalidad"
   ]
  },
  {
   "cell_type": "code",
   "execution_count": 70,
   "metadata": {},
   "outputs": [
    {
     "data": {
      "text/plain": [
       "1.0000000107040163"
      ]
     },
     "execution_count": 70,
     "metadata": {},
     "output_type": "execute_result"
    }
   ],
   "source": [
    "(densidad_histograma_numpy*delta_x).sum()"
   ]
  },
  {
   "cell_type": "code",
   "execution_count": 74,
   "metadata": {},
   "outputs": [
    {
     "data": {
      "image/png": "[encoded data removed]",
      "text/plain": [
       "<Figure size 1296x288 with 1 Axes>"
      ]
     },
     "metadata": {
      "needs_background": "light"
     },
     "output_type": "display_data"
    }
   ],
   "source": [
    "plt.bar(bin_limites[:-1], densidad_histograma_numpy._value, width = delta_x._value, color='lightblue', label='densidad de numpy')\n",
    "plt.bar(bin_limites[:-1], densidad_histograma._value, width = delta_x._value, fill=False, edgecolor='blue', label='nuestra densidad')\n",
    "plt.xlim(limite_minimo_x._value, limite_maximo_x._value)\n",
    "plt.xlabel(\"x [{}]\".format(positions.unit.get_symbol()))\n",
    "plt.ylabel(\"$P_{x}$\")\n",
    "plt.legend(loc='upper right')\n",
    "plt.show()"
   ]
  },
  {
   "cell_type": "markdown",
   "metadata": {},
   "source": [
    "Ya podemos llamar tranquílamente a esta serie de valores correspondientes a cada celda del eje $X$: densidad de probabilidad discreta recogida de la trayectoria. Podríamos por ejemplo ahora calcular valores como $\\langle x \\rangle$:\n",
    "\n",
    "\\begin{equation}\n",
    "\\langle x \\rangle = \n",
    "\\int_{-\\infty}^{\\infty} {xP(x)dx} \\approx\n",
    "\\int_{-2}^{2} {xP(x)dx} \\approx\n",
    "\\sum_{i}{xP_{x_{i}} \\Delta x}\n",
    "\\end{equation}"
   ]
  },
  {
   "cell_type": "code",
   "execution_count": 84,
   "metadata": {},
   "outputs": [
    {
     "name": "stdout",
     "output_type": "stream",
     "text": [
      "Posición promedio de la distribución de probabilidad de la trayectoria: 0.26183799851033845 nm\n"
     ]
    }
   ],
   "source": [
    "x_media = 0.0*unit.nanometers\n",
    "\n",
    "for ii in range(n_bins):\n",
    "    x_media += (bin_limites[ii]*unit.nanometers)*densidad_histograma[ii]*delta_x\n",
    "    \n",
    "print(\"Posición promedio de la distribución de probabilidad de la trayectoria:\", x_media_de_densidad)"
   ]
  },
  {
   "cell_type": "markdown",
   "metadata": {},
   "source": [
    "como $\\langle \\left(\\langle x \\rangle- x \\right)^{2} \\rangle$:\n",
    "\n",
    "\\begin{equation}\n",
    "\\langle \\left(\\langle x \\rangle- x \\right)^{2} \\rangle =\n",
    "\\int_{-\\infty}^{\\infty} {\\left(\\langle x \\rangle- x \\right)^{2} P(x)dx} \\approx\n",
    "\\int_{-2}^{2} {\\left(\\langle x \\rangle- x \\right)^{2} P(x)dx} \\approx\n",
    "\\sum_{i}{\\left(\\langle x \\rangle- x_{i} \\right)^{2} P_{x_{i}} \\Delta x}\n",
    "\\end{equation}"
   ]
  },
  {
   "cell_type": "code",
   "execution_count": 85,
   "metadata": {},
   "outputs": [
    {
     "name": "stdout",
     "output_type": "stream",
     "text": [
      "La desviación cuadrática promedio de la distribución de probabilidad de la trayectoria: 0.8788116525538892 nm**2\n"
     ]
    }
   ],
   "source": [
    "sigma2_x = 0.0 * unit.nanometers**2\n",
    "\n",
    "for ii in range(n_bins):\n",
    "    sigma2_x += (x_media_de_densidad-bin_limites[ii]*unit.nanometers)**2 *densidad_histograma[ii]*delta_x\n",
    "    \n",
    "print(\"La desviación cuadrática promedio de la distribución de probabilidad de la trayectoria:\", sigma2_x_de_densidad)"
   ]
  },
  {
   "cell_type": "markdown",
   "metadata": {},
   "source": [
    "o como por ejemplo cuál es la probabilidad de encontrar a la partícula en $x=[-2,0)$:\n",
    "\n",
    "\\begin{equation}\n",
    "P(-2\\le x < 0)= \\int_{-2}^{0} P\\left( x \\right) dx \\approx\n",
    "\\sum_{-2\\le x_{i}<0} P_{x_{i}} \\Delta x\n",
    "\\end{equation}"
   ]
  },
  {
   "cell_type": "code",
   "execution_count": 86,
   "metadata": {},
   "outputs": [
    {
     "name": "stdout",
     "output_type": "stream",
     "text": [
      "La probabilidad de que x=[-2.0, 0.0) es: 0.36334999999999984\n"
     ]
    }
   ],
   "source": [
    "P_izquierda = 0.0\n",
    "\n",
    "for ii in range(n_bins):\n",
    "    if -2.0 <= bin_limites[ii] < 0.0:\n",
    "        P_izquierda += densidad_histograma[ii]*delta_x\n",
    "    \n",
    "print(\"La probabilidad de que x=[-2.0, 0.0) es:\", P_izquierda)"
   ]
  },
  {
   "cell_type": "markdown",
   "metadata": {},
   "source": [
    "Pero, ¿era necesario calcular $P_{x}$ de la trayectoria para conocer $\\langle x \\rangle$, $\\langle \\left(\\langle x \\rangle- x \\right)^{2} \\rangle$, o $P(-2\\le x < 0)$? No necesariamente. Es verdad que una vez que conocemos $P(x)$, o nos aproximamos con su versión discreta $P_{x}$, ya podemos calcular toda la termodinamica del sistema, podemos calcular el valor esperado de cualquier observable:\n",
    "\n",
    "\\begin{equation}\n",
    "\\langle A \\rangle = \\int_{-\\infty}^{\\infty} A(x) P(x) dx\n",
    "\\end{equation}\n",
    "\n",
    "Sin necesidad de haber calculado la distribución de densidad de probabilidad, podíamos haber calculado estas magnitudes directamente de la trayectoria compuesta por $N$ frames sin más que:\n",
    "\n",
    "\\begin{equation}\n",
    "\\langle A \\rangle \\approx \\sum_{n=0}^{N} \\frac{A(n)}{N},\n",
    "\\end{equation}"
   ]
  },
  {
   "cell_type": "markdown",
   "metadata": {},
   "source": [
    "Veamos el caso, por ejemplo, de esos tres observables anteriores a continuación. Teniendo encuenta que uno de ellos puede ser reescrito como:\n",
    "\n",
    "\\begin{equation}\n",
    "\\langle \\left(\\langle x \\rangle- x \\right)^{2} \\rangle = \n",
    "\\langle \\langle x \\rangle^{2} + x^{2} -2x\\langle x \\rangle \\rangle =\n",
    "\\langle x \\rangle^{2} + \\langle x^{2} \\rangle - 2\\langle x \\rangle\\langle x \\rangle =\n",
    "\\langle x^{2} \\rangle - \\langle x \\rangle\n",
    "^{2}\\end{equation}"
   ]
  },
  {
   "cell_type": "code",
   "execution_count": 106,
   "metadata": {},
   "outputs": [],
   "source": [
    "x_media_tray = 0.0*unit.nanometers\n",
    "x2_media_tray = 0.0*unit.nanometers**2\n",
    "P_izquierda_tray = 0.0\n",
    "n_frames = len(times)\n",
    "\n",
    "for x in positions[:,0,0]:\n",
    "    x_media_tray += x\n",
    "    x2_media_tray += x**2\n",
    "    if -2.0<=x._value<0.0:\n",
    "        P_izquierda_tray += 1.0\n",
    "\n",
    "x_media_tray = x_media_tray/n_frames\n",
    "x2_media_tray = x2_media_tray/n_frames\n",
    "sigma2_x_tray = x2_media_tray - x_media_tray**2\n",
    "P_izquierda_tray = P_izquierda_tray/n_frames"
   ]
  },
  {
   "cell_type": "code",
   "execution_count": 107,
   "metadata": {},
   "outputs": [
    {
     "name": "stdout",
     "output_type": "stream",
     "text": [
      "La posición promedio directamente de la trayectoria es: 0.2717705808932893 nm\n",
      "y la obtenida de la distribución discreta de densidad de probabilidad es: 0.26183799851033845 nm\n"
     ]
    }
   ],
   "source": [
    "print('La posición promedio directamente de la trayectoria es:', x_media_tray)\n",
    "print('y la obtenida de la distribución discreta de densidad de probabilidad es:', x_media)"
   ]
  },
  {
   "cell_type": "code",
   "execution_count": 108,
   "metadata": {},
   "outputs": [
    {
     "name": "stdout",
     "output_type": "stream",
     "text": [
      "La desviación cuadrática promedio directamente de la trajectoria es: 0.8786856489183432 nm**2\n",
      "y la obtenida de la distribución discreta de densidad de probabilidad es: 0.8788116525538892 nm**2\n"
     ]
    }
   ],
   "source": [
    "print('La desviación cuadrática promedio directamente de la trajectoria es:', sigma2_x_de_tray)\n",
    "print('y la obtenida de la distribución discreta de densidad de probabilidad es:', sigma2_x)"
   ]
  },
  {
   "cell_type": "code",
   "execution_count": 109,
   "metadata": {},
   "outputs": [
    {
     "name": "stdout",
     "output_type": "stream",
     "text": [
      "La probabilidad de que x=[-2.0,0.0) directamente de la trajectoria es: 0.36335\n",
      "y la obtenida de la distribución discreta de densidad de probabilidad es: 0.36334999999999984\n"
     ]
    }
   ],
   "source": [
    "print('La probabilidad de que x=[-2.0,0.0) directamente de la trajectoria es:', P_izquierda_tray)\n",
    "print('y la obtenida de la distribución discreta de densidad de probabilidad es:', P_izquierda)"
   ]
  },
  {
   "cell_type": "markdown",
   "metadata": {},
   "source": [
    "Cuando comparamos los dos valores de cada observable, según la forma como han sido obtenidos, vemos que puede haber ligeras diferencias. ¿A qué crees que se debe?\n",
    "\n",
    "Efectivamente, al discretizar el eje $X$ para calcular la distribución discreta de probabilidad estamos realizando una aproximación. Estamos diciendo que todos los $x\\in[x_{i}, x_{i+1})$ tienen los mismos valores $P(x)=P(x_{i})$. Tendríamos que hacer una discretización infinitesimalmente fina para obtener el valor esperado teóricamente exacto:\n",
    "\n",
    "\\begin{equation}\n",
    "\\langle A \\rangle = \\int_{-\\infty}^{\\infty} A(x) P(x) dx \\approx \\sum_{x_{i}\\in(-\\infty,\\infty)} P_{x_{i}} \\Delta x\n",
    "\\end{equation}"
   ]
  },
  {
   "cell_type": "markdown",
   "metadata": {},
   "source": [
    "Otra variable que hemos introducido en estos cálculos que es origen de posible error o aproximación son los límites en el rango de la discretización:\n",
    "\n",
    "\\begin{equation}\n",
    "1 = \\int_{-\\infty}^{\\infty} P(x) dx \\approx \\int_{lim_{inf}}^{lim_{sup}}{P(x) dx}\n",
    "\\end{equation}"
   ]
  },
  {
   "cell_type": "markdown",
   "metadata": {},
   "source": [
    "Este último hecho no explica la discrepancia en la precisión obtenida para $\\langle x \\rangle$ anteriormente por dos vías distintas desde la trayectoria. Ya que conocemos que no se observan eventos fuera de la región elegida.  "
   ]
  },
  {
   "cell_type": "markdown",
   "metadata": {},
   "source": [
    "### Densidad de probabilidad discreta $P_{x}$ teórica"
   ]
  },
  {
   "cell_type": "markdown",
   "metadata": {},
   "source": [
    "Conocemos que la función de densidad de probabilidad teórica para una partícula en el espacio tridimensional es:\n",
    "    \n",
    "\\begin{equation}\n",
    "P(x,y,z) = \\frac{1}{Z} e^{-\\frac{V(x,y,z)}{K_{B}T}},\n",
    "\\end{equation}\n",
    "\n",
    "donde:\n",
    "\n",
    "\\begin{equation}\n",
    "Z = \\iiint_{-\\infty}^{\\infty} {e^{-\\frac{V(x,y,z)}{K_{B}T}}} dx dy dz\n",
    "\\end{equation}"
   ]
  },
  {
   "cell_type": "markdown",
   "metadata": {},
   "source": [
    "Podemos por tanto calcular la función de densidad de probabilidad $P(x)$ ya que dada la forma de nuestro potencial $V(x,y,z)$ se cumple que:\n",
    "\n",
    "\\begin{equation}\n",
    "V(x,y,z) = V(x)+V(y)+V(z)\n",
    "\\end{equation}\n",
    "\n",
    "Así que:\n",
    "\n",
    "\\begin{equation}\n",
    "P(x) = \\frac{1}{Z_{x}} e^{-\\frac{V(x,y,z)}{K_{B}T}},\n",
    "\\end{equation}\n"
   ]
  },
  {
   "cell_type": "code",
   "execution_count": null,
   "metadata": {},
   "outputs": [],
   "source": [
    "plt.plot((bin_edges[1:]+bin_edges[:-1])/2.0,-np.log(hist))\n",
    "plt.show()"
   ]
  },
  {
   "cell_type": "code",
   "execution_count": null,
   "metadata": {},
   "outputs": [],
   "source": [
    "num_frames = positions.shape[0]\n",
    "averages   = unit.Quantity(np.zeros(num_frames, np.float32), unit.angstroms)\n",
    "std_devs   = unit.Quantity(np.zeros(num_frames, np.float32), unit.angstroms)\n",
    "    \n",
    "for ii in np.arange(num_frames):\n",
    "    averages[ii] = np.mean(positions[:(ii+1),0])\n",
    "    std_devs[ii]  = np.std(positions[:(ii+1),0])\n",
    "\n",
    "plt.plot(times,averages)\n",
    "plt.show()\n",
    "\n",
    "plt.plot(times,std_devs)\n",
    "plt.show()"
   ]
  },
  {
   "cell_type": "code",
   "execution_count": null,
   "metadata": {},
   "outputs": [],
   "source": [
    "# ¿Qué pasa si cambiamos el valor de T?\n",
    "\n",
    "initial_positions =  np.zeros([1, 3], np.float32) * unit.nanometers\n",
    "initial_positions[0,0] = 1.1 * unit.nanometers\n",
    "initial_velocities = np.zeros([1, 3], np.float32) * unit.nanometers/unit.picoseconds\n",
    "\n",
    "times, positions, velocities, kinetic_energies, potential_energies = langevin_NVT (double_well_asymmetric.system,\n",
    "                                                                                   temperature = 200*unit.kelvin,\n",
    "                                                                                   friction = 1.0/unit.picoseconds,\n",
    "                                                                                   initial_positions = initial_positions,\n",
    "                                                                                   initial_velocities = initial_velocities,\n",
    "                                                                                   integration_timestep = 0.2 * unit.picoseconds,\n",
    "                                                                                   saving_timestep = 10.0 * unit.picoseconds,\n",
    "                                                                                   total_time = 20 * unit.nanoseconds,\n",
    "                                                                                   platform_name='CPU')"
   ]
  },
  {
   "cell_type": "code",
   "execution_count": null,
   "metadata": {},
   "outputs": [],
   "source": [
    "plt.rcParams['figure.figsize'] = 18, 4\n",
    "for ii, ylabel in zip(range(3),['X','Y','Z']):\n",
    "    plt.plot(times,positions[:,ii])\n",
    "    plt.ylabel(ylabel)\n",
    "    plt.xlabel('time')\n",
    "    plt.show()"
   ]
  },
  {
   "cell_type": "code",
   "execution_count": null,
   "metadata": {},
   "outputs": [],
   "source": []
  },
  {
   "cell_type": "code",
   "execution_count": null,
   "metadata": {},
   "outputs": [],
   "source": [
    "hist, bin_edges = np.histogram(positions[:,0],bins=100, density=True)\n",
    "plt.plot((bin_edges[1:]+bin_edges[:-1])/2.0,hist)\n",
    "plt.show()"
   ]
  },
  {
   "cell_type": "code",
   "execution_count": null,
   "metadata": {},
   "outputs": [],
   "source": [
    "plt.plot((bin_edges[1:]+bin_edges[:-1])/2.0,-np.log(hist))\n",
    "plt.show()"
   ]
  },
  {
   "cell_type": "code",
   "execution_count": null,
   "metadata": {},
   "outputs": [],
   "source": [
    "num_frames = positions.shape[0]\n",
    "averages   = unit.Quantity(np.zeros(num_frames, np.float32), unit.angstroms)\n",
    "std_devs   = unit.Quantity(np.zeros(num_frames, np.float32), unit.angstroms)\n",
    "    \n",
    "for ii in np.arange(num_frames):\n",
    "    averages[ii] = np.mean(positions[:(ii+1),0])\n",
    "    std_devs[ii]  = np.std(positions[:(ii+1),0])\n",
    "\n",
    "plt.plot(times,averages)\n",
    "plt.show()\n",
    "\n",
    "plt.plot(times,std_devs)\n",
    "plt.show()"
   ]
  },
  {
   "cell_type": "code",
   "execution_count": null,
   "metadata": {},
   "outputs": [],
   "source": [
    " # ¿Qué pasa si cambiamos el valor del timestep?\n",
    "\n",
    "initial_positions =  np.zeros([1, 3], np.float32) * unit.nanometers\n",
    "initial_positions[0,0] = 1.1 * unit.nanometers\n",
    "initial_velocities = np.zeros([1, 3], np.float32) * unit.nanometers/unit.picoseconds\n",
    "\n",
    "times, positions, velocities, kinetic_energies, potential_energies = langevin_NVT (double_well_asymmetric.system,\n",
    "                                                                                   temperature = 200*unit.kelvin,\n",
    "                                                                                   friction = 1.0/unit.picoseconds,\n",
    "                                                                                   initial_positions = initial_positions,\n",
    "                                                                                   initial_velocities = initial_velocities,\n",
    "                                                                                   integration_timestep = 1.0 * unit.picoseconds,\n",
    "                                                                                   saving_timestep = 10.0 * unit.picoseconds,\n",
    "                                                                                   total_time = 20 * unit.nanoseconds,\n",
    "                                                                                   platform_name='CPU')"
   ]
  },
  {
   "cell_type": "code",
   "execution_count": null,
   "metadata": {},
   "outputs": [],
   "source": [
    "plt.rcParams['figure.figsize'] = 18, 4\n",
    "for ii, ylabel in zip(range(3),['X','Y','Z']):\n",
    "    plt.plot(times,positions[:,ii])\n",
    "    plt.ylabel(ylabel)\n",
    "    plt.xlabel('time')\n",
    "    plt.show()"
   ]
  },
  {
   "cell_type": "code",
   "execution_count": null,
   "metadata": {},
   "outputs": [],
   "source": [
    "hist, bin_edges = np.histogram(positions[:,0],bins=100, density=True)\n",
    "plt.plot((bin_edges[1:]+bin_edges[:-1])/2.0,hist)\n",
    "plt.show()"
   ]
  },
  {
   "cell_type": "code",
   "execution_count": null,
   "metadata": {},
   "outputs": [],
   "source": [
    "plt.plot((bin_edges[1:]+bin_edges[:-1])/2.0,-np.log(hist))\n",
    "plt.show()"
   ]
  },
  {
   "cell_type": "code",
   "execution_count": null,
   "metadata": {},
   "outputs": [],
   "source": [
    "num_frames = positions.shape[0]\n",
    "averages   = unit.Quantity(np.zeros(num_frames, np.float32), unit.angstroms)\n",
    "std_devs   = unit.Quantity(np.zeros(num_frames, np.float32), unit.angstroms)\n",
    "    \n",
    "for ii in np.arange(num_frames):\n",
    "    averages[ii] = np.mean(positions[:(ii+1),0])\n",
    "    std_devs[ii]  = np.std(positions[:(ii+1),0])\n",
    "\n",
    "plt.plot(times,averages)\n",
    "plt.show()\n",
    "\n",
    "plt.plot(times,std_devs)\n",
    "plt.show()"
   ]
  },
  {
   "cell_type": "code",
   "execution_count": null,
   "metadata": {},
   "outputs": [],
   "source": [
    " # ¿Qué pasa si cambiamos el valor del damping?\n",
    "\n",
    "# Diego: Creo que habría que subir el damping... un poco \n",
    "\n",
    "initial_positions =  np.zeros([1, 3], np.float32) * unit.nanometers\n",
    "initial_positions[0,0] = 1.1 * unit.nanometers\n",
    "initial_velocities = np.zeros([1, 3], np.float32) * unit.nanometers/unit.picoseconds\n",
    "\n",
    "times, positions, velocities, kinetic_energies, potential_energies = langevin_NVT (double_well_asymmetric.system,\n",
    "                                                                                   temperature = 200*unit.kelvin,\n",
    "                                                                                   friction = 1.0/unit.picoseconds,\n",
    "                                                                                   initial_positions = initial_positions,\n",
    "                                                                                   initial_velocities = initial_velocities,\n",
    "                                                                                   integration_timestep = 0.2 * unit.picoseconds,\n",
    "                                                                                   saving_timestep = 10.0 * unit.picoseconds,\n",
    "                                                                                   total_time = 20 * unit.nanoseconds,\n",
    "                                                                                   platform_name='CPU')"
   ]
  },
  {
   "cell_type": "code",
   "execution_count": null,
   "metadata": {},
   "outputs": [],
   "source": [
    "plt.rcParams['figure.figsize'] = 18, 4\n",
    "for ii, ylabel in zip(range(3),['X','Y','Z']):\n",
    "    plt.plot(times,positions[:,ii])\n",
    "    plt.ylabel(ylabel)\n",
    "    plt.xlabel('time')\n",
    "    plt.show()"
   ]
  },
  {
   "cell_type": "code",
   "execution_count": null,
   "metadata": {},
   "outputs": [],
   "source": [
    "hist, bin_edges = np.histogram(positions[:,0],bins=100, density=True)\n",
    "plt.plot((bin_edges[1:]+bin_edges[:-1])/2.0,hist)\n",
    "plt.show()"
   ]
  },
  {
   "cell_type": "code",
   "execution_count": null,
   "metadata": {},
   "outputs": [],
   "source": [
    "plt.plot((bin_edges[1:]+bin_edges[:-1])/2.0,-np.log(hist))\n",
    "plt.show()"
   ]
  },
  {
   "cell_type": "code",
   "execution_count": null,
   "metadata": {},
   "outputs": [],
   "source": [
    "num_frames = positions.shape[0]\n",
    "averages   = unit.Quantity(np.zeros(num_frames, np.float32), unit.angstroms)\n",
    "std_devs   = unit.Quantity(np.zeros(num_frames, np.float32), unit.angstroms)\n",
    "    \n",
    "for ii in np.arange(num_frames):\n",
    "    averages[ii] = np.mean(positions[:(ii+1),0])\n",
    "    std_devs[ii]  = np.std(positions[:(ii+1),0])\n",
    "\n",
    "plt.plot(times,averages)\n",
    "plt.show()\n",
    "\n",
    "plt.plot(times,std_devs)\n",
    "plt.show()"
   ]
  },
  {
   "cell_type": "code",
   "execution_count": null,
   "metadata": {},
   "outputs": [],
   "source": [
    "\"\"\"\"\n",
    "Notar la naturaleza estocástica\n",
    "¿Es más conveniente usar un valor de damping ligeramente más alto?\n",
    "¿Qué pasa si la barrera del pozo es más alta?\n",
    "\n",
    "\"\"\"\""
   ]
  },
  {
   "cell_type": "markdown",
   "metadata": {},
   "source": [
    "- ¿Depende la termodinámica de la fricción? ¿Depende el histograma o la Kd de la fricción?\n",
    "- ¿Qué sucede si elegimos un paso de integración más alto que el recomendado?\n",
    "- ¿Qué regula entonces la fricción o damping?¿Lo podemos elegir?\n",
    "- ¿Qué pasa si la barrera es más alta pero la energía potencial relativa entre los mínimos es igual?"
   ]
  },
  {
   "cell_type": "code",
   "execution_count": null,
   "metadata": {},
   "outputs": [],
   "source": [
    "kB = unit.BOLTZMANN_CONSTANT_kB * unit.AVOGADRO_CONSTANT_NA"
   ]
  },
  {
   "cell_type": "code",
   "execution_count": null,
   "metadata": {},
   "outputs": [],
   "source": []
  }
 ],
 "metadata": {
  "kernelspec": {
   "display_name": "Python 3",
   "language": "python",
   "name": "python3"
  },
  "language_info": {
   "codemirror_mode": {
    "name": "ipython",
    "version": 3
   },
   "file_extension": ".py",
   "mimetype": "text/x-python",
   "name": "python",
   "nbconvert_exporter": "python",
   "pygments_lexer": "ipython3",
   "version": "3.7.6"
  }
 },
 "nbformat": 4,
 "nbformat_minor": 4
}
