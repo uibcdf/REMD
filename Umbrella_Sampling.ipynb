{
 "cells": [
  {
   "cell_type": "code",
   "execution_count": 3,
   "metadata": {},
   "outputs": [],
   "source": [
    "%load_ext autoreload\n",
    "%autoreload 2"
   ]
  },
  {
   "cell_type": "code",
   "execution_count": 4,
   "metadata": {},
   "outputs": [],
   "source": [
    "from simtk import unit\n",
    "import numpy as np\n",
    "import matplotlib.pyplot as plt\n",
    "from copy import deepcopy\n",
    "import simtk.openmm as mm"
   ]
  },
  {
   "cell_type": "markdown",
   "metadata": {},
   "source": [
    "# Umbrella Sampling"
   ]
  },
  {
   "cell_type": "markdown",
   "metadata": {},
   "source": [
    "## Sistema de tests: Doble pozo"
   ]
  },
  {
   "cell_type": "code",
   "execution_count": 11,
   "metadata": {},
   "outputs": [],
   "source": [
    "from uibcdf_test_systems import DoubleWell\n",
    "from uibcdf_test_systems.simulation import langevin_NVT\n",
    "from uibcdf_test_systems.analysis import get_probability_density"
   ]
  },
  {
   "cell_type": "code",
   "execution_count": 26,
   "metadata": {},
   "outputs": [],
   "source": [
    "# Parametros del sistema y el potencial\n",
    "\n",
    "parametros_potencial ={\n",
    "    'Eo' : 4.0 * unit.kilocalories_per_mole,\n",
    "    'a' : 1.0 * unit.nanometers,\n",
    "    'b' : 0.25 * unit.kilocalories_per_mole\n",
    "}\n",
    "\n",
    "parametros_sistema = {\n",
    "    'n_particles' : 1,\n",
    "    'mass' : 14.007 * unit.amu\n",
    "}\n",
    "\n",
    "# Sistema\n",
    "double_well_asymmetric = DoubleWell(**parametros_sistema, **parametros_potencial)"
   ]
  },
  {
   "cell_type": "code",
   "execution_count": 16,
   "metadata": {},
   "outputs": [
    {
     "name": "stderr",
     "output_type": "stream",
     "text": [
      "100%|██████████| 9999/9999 [00:16<00:00, 617.34it/s]\n"
     ]
    }
   ],
   "source": [
    "# Parametros del estado termodinámico\n",
    "T = 300*unit.kelvin\n",
    "\n",
    "# Condiciones iniciales\n",
    "initial_positions =  np.zeros([1, 3], np.float32) * unit.nanometers\n",
    "\n",
    "# Simulación\n",
    "times, positions, _, _, _ = langevin_NVT (double_well_asymmetric.system, temperature = T,\n",
    "                                          friction = 1.0/unit.picoseconds,\n",
    "                                          initial_positions = initial_positions,\n",
    "                                          integration_timestep = 0.2 * unit.picoseconds,\n",
    "                                          saving_timestep = 10.0 * unit.picoseconds,\n",
    "                                          total_time = 0.1 * unit.microseconds)"
   ]
  },
  {
   "cell_type": "code",
   "execution_count": 18,
   "metadata": {},
   "outputs": [],
   "source": [
    "prob_density, coors_x, bins, delta_x = get_probability_density (positions[:,0,0], [-2.0,2.0]*unit.nanometers, 400)\n",
    "prob_density_teo, _, _, _ = get_probability_density (double_well_asymmetric, [-2.0,2.0]*unit.nanometers, 400, T)"
   ]
  },
  {
   "cell_type": "code",
   "execution_count": 20,
   "metadata": {},
   "outputs": [
    {
     "data": {
      "image/png": "[encoded data removed]",
      "text/plain": [
       "<Figure size 432x288 with 1 Axes>"
      ]
     },
     "metadata": {
      "needs_background": "light"
     },
     "output_type": "display_data"
    }
   ],
   "source": [
    "plt.plot(coors_x, prob_density, color='blue')\n",
    "plt.plot(coors_x, prob_density_teo, color='red')\n",
    "plt.show()"
   ]
  },
  {
   "cell_type": "markdown",
   "metadata": {},
   "source": [
    "## Teoria\n",
    "\n",
    "En el caso canónico unidimensional:\n",
    "\n",
    "\\begin{equation}\n",
    "P(x) \\propto e^{-\\frac{U(x)}{k_{B}T}}\n",
    "\\end{equation}\n",
    "\n",
    "Si por ejemplo estamos definiendo una coordenada de reacción lineal $L(q)$ en un espacio multidimensional la expresión tiene sentido cuando integramos todos los grados de libertad que se proyectan sobre un mismo valor $l$:\n",
    "\n",
    "\\begin{equation}\n",
    "P(l) \\propto \\int_{-\\infty}^{\\infty} e^{-\\frac{U(\\vec{q})}{k_{B}T}} \\delta (l - L(\\vec{q})) d\\vec{q}\n",
    "\\end{equation}\n",
    "\n",
    "En todo caso, la energía libre de un estado (o microestado), de una proyección sobre una coordenada de reacción, un subespacio del espacio conformacional (una discretización\n",
    " por ejemplo), tiene la forma:\n",
    "\n",
    "\\begin{equation}\n",
    "F(l) = -k_{B}T \\ln (P(l))\n",
    "\\end{equation}\n",
    "\n",
    "En el caso de un sistema unidimensional, si no discretizamos el espacio, no hacemos regiones, la energía libre coincide con el potencial.\n",
    "\n",
    "Para confinar el sistema en una región podemos añadir un potencial adicional $V(x)$. Esta práctica es muy conveniente en el caso por ejemplo de que no queramos que el sistema, o parte del sistema, explore regiones no deseadas. Por ejemplo en el caso de confinar un ligando en el sitio de unión, o junto a la superficie de la proteína para el caso del estudio de un sistema receptor-ligando.\n",
    "\n",
    "En este caso haremos que el potencial auxiliar $V(x)$ sea un pozo armónico:\n",
    "\n",
    "\\begin{equation}\n",
    "V(x)=\\frac{1}{2} k (x-x_{0})^{2},\n",
    "\\end{equation}\n",
    "\n",
    "donde $k$ es la constante de rigidez del potencial armónico usado para restringir la exploración, y $x_{0}$ la ubicación del mínimo. Veamos como podemos introducir en nuestro sistema de doble pozo unidimensional este potencial adicional:"
   ]
  },
  {
   "cell_type": "code",
   "execution_count": 48,
   "metadata": {},
   "outputs": [
    {
     "data": {
      "text/plain": [
       "1"
      ]
     },
     "execution_count": 48,
     "metadata": {},
     "output_type": "execute_result"
    }
   ],
   "source": [
    "k = 30.0 * unit.kilocalories_per_mole/unit.nanometer**2\n",
    "xo = 0.4 * unit.nanometers\n",
    "\n",
    "force = mm.CustomExternalForce('0.5*k*(x-xo)^2')\n",
    "force.addGlobalParameter('k', k)\n",
    "force.addGlobalParameter('xo', xo)\n",
    "for ii in range(double_well_asymmetric.n_particles):\n",
    "    force.addParticle(ii, [])\n",
    "double_well_asymmetric.system.addForce(force) "
   ]
  },
  {
   "cell_type": "markdown",
   "metadata": {},
   "source": [
    "El objeto 'double_well_asymmetric.system' ha sido modificado para incluir nuestro potencial armónico extra. Ya no es el sistema doble pozo:"
   ]
  },
  {
   "cell_type": "code",
   "execution_count": 49,
   "metadata": {},
   "outputs": [],
   "source": [
    "def double_well_plus_harmonic(x,Eo,a,b,k,xo):\n",
    "    return Eo*((x/a)**4-2*(x/a)**2)-(b/a)*x + 0.5*k*(x-xo)**2"
   ]
  },
  {
   "cell_type": "code",
   "execution_count": 50,
   "metadata": {},
   "outputs": [
    {
     "data": {
      "image/png": "[encoded data removed]",
      "text/plain": [
       "<Figure size 432x288 with 1 Axes>"
      ]
     },
     "metadata": {
      "needs_background": "light"
     },
     "output_type": "display_data"
    }
   ],
   "source": [
    "x_serie = np.arange(-5., 5., 0.05) * unit.nanometers\n",
    "Vx_serie = double_well_plus_harmonic(x_serie, **parametros_potencial, k=k, xo=xo)\n",
    "\n",
    "plt.plot(x_serie, Vx_serie, 'r-')\n",
    "plt.axvline(x=xo._value,linestyle='--',color='gray')\n",
    "plt.ylim(-3,3)\n",
    "plt.xlim(-2,2)\n",
    "plt.xlabel(\"x [{}]\".format(x_serie.unit.get_symbol()))\n",
    "plt.ylabel(\"V(x) [{}]\".format(Vx_serie.unit.get_symbol()))\n",
    "plt.text(xo._value+0.05, 2.5,'$x_{0}$', horizontalalignment='left', verticalalignment='center')\n",
    "plt.rcParams['figure.figsize'] = 6,4\n",
    "plt.show()"
   ]
  },
  {
   "cell_type": "markdown",
   "metadata": {},
   "source": [
    "Veamos el comportamiento del nuevo sistema de doble pozo asimétrico más potencial harmónico:"
   ]
  },
  {
   "cell_type": "code",
   "execution_count": 51,
   "metadata": {},
   "outputs": [
    {
     "name": "stderr",
     "output_type": "stream",
     "text": [
      "100%|██████████| 9999/9999 [00:16<00:00, 597.76it/s]\n"
     ]
    }
   ],
   "source": [
    "# Condiciones iniciales\n",
    "initial_positions =  np.zeros([1, 3], np.float32) * unit.nanometers\n",
    "initial_positions[0,0] = xo\n",
    "\n",
    "# Simulación\n",
    "times, positions, _, _, _ = langevin_NVT (double_well_asymmetric.system, temperature = T,\n",
    "                                          friction = 1.0/unit.picoseconds,\n",
    "                                          initial_positions = initial_positions,\n",
    "                                          integration_timestep = 0.2 * unit.picoseconds,\n",
    "                                          saving_timestep = 10.0 * unit.picoseconds,\n",
    "                                          total_time = 0.1 * unit.microseconds)"
   ]
  },
  {
   "cell_type": "code",
   "execution_count": 52,
   "metadata": {},
   "outputs": [
    {
     "data": {
      "text/plain": [
       "[<matplotlib.lines.Line2D at 0x7faf95d62d10>]"
      ]
     },
     "execution_count": 52,
     "metadata": {},
     "output_type": "execute_result"
    },
    {
     "data": {
      "image/png": "[encoded data removed]",
      "text/plain": [
       "<Figure size 432x288 with 1 Axes>"
      ]
     },
     "metadata": {
      "needs_background": "light"
     },
     "output_type": "display_data"
    }
   ],
   "source": [
    "plt.plot(positions[:,0,0])"
   ]
  },
  {
   "cell_type": "markdown",
   "metadata": {},
   "source": [
    "Comparemos la nueva distribución de densidad de probabilidad extraida de la trayectoria con la referencia teórica del doble pozo asimétrico:"
   ]
  },
  {
   "cell_type": "code",
   "execution_count": 53,
   "metadata": {},
   "outputs": [],
   "source": [
    "prob_density, coors_x, bins, delta_x = get_probability_density (positions[:,0,0], [-2.0,2.0]*unit.nanometers, 400)"
   ]
  },
  {
   "cell_type": "code",
   "execution_count": 54,
   "metadata": {},
   "outputs": [
    {
     "data": {
      "image/png": "[encoded data removed]",
      "text/plain": [
       "<Figure size 432x288 with 1 Axes>"
      ]
     },
     "metadata": {
      "needs_background": "light"
     },
     "output_type": "display_data"
    }
   ],
   "source": [
    "plt.plot(coors_x, prob_density, color='blue')\n",
    "plt.plot(coors_x, prob_density_teo, color='red')\n",
    "plt.show()"
   ]
  },
  {
   "cell_type": "markdown",
   "metadata": {},
   "source": [
    "Al introducir un potencial extra, especialmente si es un potencial que tiene por objeto confinar al sistema, debemos preguntarnos si no hemos introducido una posible fuente de problemas con el paso del integrador. Para hacer la consulta de manera más sencilla, podemos recurrir al objeto 'HarmonicWell' encontrado en la librería uibcdf_test_systems:"
   ]
  },
  {
   "cell_type": "code",
   "execution_count": 56,
   "metadata": {},
   "outputs": [],
   "source": [
    "from uibcdf_test_systems import HarmonicWell\n",
    "pozo_armonico = HarmonicWell(n_particles=1, mass=parametros_sistema['mass'], k=k)"
   ]
  },
  {
   "cell_type": "code",
   "execution_count": null,
   "metadata": {},
   "outputs": [],
   "source": [
    "pozo_armonico."
   ]
  },
  {
   "cell_type": "code",
   "execution_count": null,
   "metadata": {},
   "outputs": [],
   "source": []
  },
  {
   "cell_type": "markdown",
   "metadata": {},
   "source": [
    "## Umbrellas"
   ]
  },
  {
   "cell_type": "code",
   "execution_count": null,
   "metadata": {},
   "outputs": [],
   "source": [
    "limite_inferior_x = -1.5*unit.nanometers\n",
    "limite_superior_x = 1.5*unit.nanometers\n",
    "n_umbrellas = 50\n",
    "\n",
    "centros = np.zeros([n_umbrellas,3]) * unit.nanometers\n",
    "centros[:,0] = np.linspace(limite_inferior_x._value, limite_superior_x._value, n_umbrellas, endpoint=True)*unit.nanometers\n",
    "\n",
    "ks = np.repeat(30.0, n_umbrellas) * unit.kilocalories_per_mole/ unit.nanometers**2"
   ]
  },
  {
   "cell_type": "code",
   "execution_count": null,
   "metadata": {},
   "outputs": [],
   "source": [
    "from copy import deepcopy\n",
    "import simtk.openmm as mm\n",
    "from tqdm import tqdm\n",
    "\n",
    "trayectorias_umbrellas = []\n",
    "\n",
    "for ii in tqdm(range(n_umbrellas)):\n",
    "    \n",
    "    system = deepcopy(double_well_asymmetric.system)\n",
    "    \n",
    "    centro = centros[ii]\n",
    "    k = ks[ii]\n",
    "    \n",
    "    force = mm.CustomExternalForce('0.5*k*(x-xo)^2')\n",
    "    force.addGlobalParameter('k', k)\n",
    "    force.addGlobalParameter('xo', centro[0])\n",
    "    for ii in range(double_well_asymmetric.n_particles):\n",
    "        force.addParticle(ii, [])\n",
    "    system.addForce(force)\n",
    "    \n",
    "    initial_positions =  np.zeros([1, 3], np.float32) * unit.nanometers\n",
    "    initial_positions[0,:] = centro\n",
    "    initial_velocities = np.zeros([1, 3], np.float32) * unit.nanometers/unit.picoseconds\n",
    "    \n",
    "    times, positions, _, _, _ = langevin_NVT (system, temperature = T,\n",
    "                                              friction = 1.0/unit.picoseconds,\n",
    "                                              initial_positions = initial_positions,\n",
    "                                              initial_velocities = initial_velocities,\n",
    "                                              integration_timestep = 0.1 * unit.picoseconds,\n",
    "                                              saving_timestep = 2.0 * unit.picoseconds,\n",
    "                                              total_time = 400.0 * unit.picoseconds,\n",
    "                                              verbose=False)\n",
    "    \n",
    "    trayectorias_umbrellas.append(positions)\n",
    "    "
   ]
  },
  {
   "cell_type": "code",
   "execution_count": null,
   "metadata": {},
   "outputs": [],
   "source": [
    "for ii in range(n_umbrellas):\n",
    "    prob_density, coors_x, _, _ = probability_density (trayectorias_umbrellas[ii][:,:,0], [-2.0,2.0]*unit.nanometers, 400)\n",
    "    plt.plot(coors_x, prob_density)"
   ]
  },
  {
   "cell_type": "code",
   "execution_count": null,
   "metadata": {},
   "outputs": [],
   "source": [
    "k = 30.0 * unit.kilocalories_per_mole/unit.nanometer**2\n",
    "xo = 0.4 * unit.nanometers\n",
    "\n",
    "force = mm.CustomExternalForce('0.5*k*(x-xo)^2')\n",
    "force.addGlobalParameter('k', k)\n",
    "force.addGlobalParameter('xo', centro[0])\n",
    "for ii in range(double_well_asymmetric.n_particles):\n",
    "    force.addParticle(ii, [])\n",
    "double_well_asymmetric.addForce(force)"
   ]
  },
  {
   "cell_type": "code",
   "execution_count": null,
   "metadata": {},
   "outputs": [],
   "source": [
    "# Condiciones iniciales\n",
    "initial_positions =  np.zeros([1, 3], np.float32) * unit.nanometers\n",
    "initial_velocities = np.zeros([1, 3], np.float32) * unit.nanometers/unit.picoseconds\n",
    "\n",
    "# Simulación\n",
    "times, positions, _, _, _ = langevin_NVT (double_well_asymmetric.system, temperature = T,\n",
    "                                          friction = 1.0/unit.picoseconds,\n",
    "                                          initial_positions = initial_positions,\n",
    "                                          initial_velocities = initial_velocities,\n",
    "                                          integration_timestep = 0.2 * unit.picoseconds,\n",
    "                                          saving_timestep = 10.0 * unit.picoseconds,\n",
    "                                          total_time = 0.3 * unit.microseconds)"
   ]
  },
  {
   "cell_type": "markdown",
   "metadata": {},
   "source": [
    "De esta manera, para el sistema $U(x)+V(x)$\n",
    "\n",
    "\n",
    "Se trata de añadir un bias potential para samplear localmente una región.\n",
    "Puede ser usado desde en una coordenada de reacción sencillas hasta en un subespacio del espacio de coordenadas mas complejo.\n",
    "Se combina con Weighted-Histogram-Analysis para el cálculo de paisajes de energías libres o potential mean force"
   ]
  },
  {
   "cell_type": "markdown",
   "metadata": {},
   "source": [
    "## Notas\n",
    "- Tiene la ventaja de que podemos ir añadiendo umbrellas sobre el set inicial para refinar el resultado o hacer que converja más rapidamente o mejor\n",
    "- Se puede combinar con otras técnicas de sampleado, incluso con markov state models"
   ]
  },
  {
   "cell_type": "markdown",
   "metadata": {},
   "source": [
    "## Ver\n",
    "\n",
    "https://www.plumed.org/doc-v2.5/user-doc/html/belfast-4.html\n",
    "\n"
   ]
  }
 ],
 "metadata": {
  "kernelspec": {
   "display_name": "Python 3",
   "language": "python",
   "name": "python3"
  },
  "language_info": {
   "codemirror_mode": {
    "name": "ipython",
    "version": 3
   },
   "file_extension": ".py",
   "mimetype": "text/x-python",
   "name": "python",
   "nbconvert_exporter": "python",
   "pygments_lexer": "ipython3",
   "version": "3.7.6"
  }
 },
 "nbformat": 4,
 "nbformat_minor": 4
}
