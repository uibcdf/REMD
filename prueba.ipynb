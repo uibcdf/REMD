{
 "cells": [
  {
   "cell_type": "code",
   "execution_count": 1,
   "metadata": {},
   "outputs": [],
   "source": [
    "import numpy as np\n",
    "import sympy as sy\n",
    "import matplotlib.pyplot as plt\n",
    "import simtk.openmm as mm\n",
    "import simtk.unit as unit\n",
    "import simtk.openmm.app as app\n",
    "from tqdm import tqdm\n",
    "import random"
   ]
  },
  {
   "cell_type": "code",
   "execution_count": 2,
   "metadata": {},
   "outputs": [
    {
     "data": {
      "text/plain": [
       "0"
      ]
     },
     "execution_count": 2,
     "metadata": {},
     "output_type": "execute_result"
    }
   ],
   "source": [
    "n_particles = 1\n",
    "system = mm.System()\n",
    "mass   = 14.007 * unit.amu # masa del átomo N\n",
    "system.addParticle(mass)\n",
    "\n",
    "force = mm.CustomExternalForce('Eo*(C*x^4-x^2)+M*x + (K/2.0)*(y^2+z^2)')\n",
    "force.addGlobalParameter('K', 35 * unit.kilocalories_per_mole/unit.angstrom**2)\n",
    "force.addGlobalParameter('Eo', 6.0 * unit.kilocalories_per_mole/unit.angstrom**2)\n",
    "force.addGlobalParameter('C', 0.4 * 1/unit.angstrom**2)\n",
    "force.addGlobalParameter('M', 0.25 * unit.kilocalories_per_mole/unit.angstrom)\n",
    "force.addParticle(0, [])\n",
    "system.addForce(force)"
   ]
  },
  {
   "cell_type": "code",
   "execution_count": 6,
   "metadata": {},
   "outputs": [
    {
     "name": "stderr",
     "output_type": "stream",
     "text": [
      "100%|██████████| 200/200 [00:03<00:00, 54.63it/s]\n",
      "100%|██████████| 200/200 [00:03<00:00, 55.21it/s]\n",
      "100%|██████████| 200/200 [00:03<00:00, 54.28it/s]\n",
      "100%|██████████| 200/200 [00:03<00:00, 55.53it/s]\n",
      "100%|██████████| 200/200 [00:03<00:00, 54.67it/s]\n",
      "100%|██████████| 200/200 [00:03<00:00, 53.91it/s]\n",
      "100%|██████████| 200/200 [00:03<00:00, 54.88it/s]\n"
     ]
    }
   ],
   "source": [
    "kB = unit.BOLTZMANN_CONSTANT_kB * unit.AVOGADRO_CONSTANT_NA\n",
    "temps = [300,315,330,345,360,375,390]\n",
    "rep = range(len(temps))\n",
    "pressure    = None\n",
    "\n",
    "step_size       = 0.01*unit.picoseconds\n",
    "num_steps       = 20000\n",
    "saving_period   = 100\n",
    "num_steps_saved = int(num_steps/saving_period)\n",
    "\n",
    "friction   = 1.0/unit.picosecond\n",
    "\n",
    "platform_name = 'CPU'  \n",
    "platform = mm.Platform.getPlatformByName(platform_name)\n",
    "\n",
    "contexto = []\n",
    "\n",
    "\n",
    "for T in temps:\n",
    "    integrator_T = mm.LangevinIntegrator(T, friction, step_size)\n",
    "    times_T = unit.Quantity(np.zeros([num_steps_saved], np.float32), unit.picoseconds)\n",
    "    positions_T  = unit.Quantity(np.zeros([num_steps_saved,3], np.float32), unit.angstroms)\n",
    "    velocities_T = unit.Quantity(np.zeros([num_steps_saved,3], np.float32), unit.angstroms/unit.picosecond)\n",
    "    potential_energies_T = unit.Quantity(np.zeros([num_steps_saved], np.float32), unit.kilocalories_per_mole)\n",
    "    kinetic_energies_T   = unit.Quantity(np.zeros([num_steps_saved], np.float32), unit.kilocalories_per_mole)\n",
    "\n",
    "    initial_positions_T  = np.zeros([n_particles, 3], np.float32) * unit.nanometers\n",
    "    initial_velocities_T = None \n",
    "\n",
    "    context_T = mm.Context(system, integrator_T, platform)\n",
    "    context_T.setPositions(initial_positions_T)\n",
    "    context_T.setVelocitiesToTemperature(T)\n",
    "\n",
    "    state_T = context_T.getState(getEnergy=True, getPositions=True, getVelocities=True)\n",
    "    times_T[0] = state_T.getTime()\n",
    "    positions_T[0] = state_T.getPositions()[0]\n",
    "    velocities_T[0] = state_T.getVelocities()[0]\n",
    "    kinetic_energies_T[0]=state_T.getKineticEnergy()\n",
    "    potential_energies_T[0]=state_T.getPotentialEnergy()\n",
    "\n",
    "    for ii in tqdm(range(num_steps_saved)):\n",
    "        context_T.getIntegrator().step(saving_period)\n",
    "        state_T = context_T.getState(getEnergy=True, getPositions=True, getVelocities=True)\n",
    "        times_T[ii] = state_T.getTime()\n",
    "        positions_T[ii] = state_T.getPositions()[0]\n",
    "        velocities_T[ii] = state_T.getVelocities()[0]\n",
    "        kinetic_energies_T[ii]=state_T.getKineticEnergy()\n",
    "        potential_energies_T[ii]=state_T.getPotentialEnergy()\n",
    " "
   ]
  },
  {
   "cell_type": "code",
   "execution_count": 5,
   "metadata": {},
   "outputs": [
    {
     "name": "stdout",
     "output_type": "stream",
     "text": [
      "[  1.   2.   3.   4.   5.   6.   7.   8.   9.  10.  11.  12.  13.  14.\n",
      "  15.  16.  17.  18.  19.  20.  21.  22.  23.  24.  25.  26.  27.  28.\n",
      "  29.  30.  31.  32.  33.  34.  35.  36.  37.  38.  39.  40.  41.  42.\n",
      "  43.  44.  45.  46.  47.  48.  49.  50.  51.  52.  53.  54.  55.  56.\n",
      "  57.  58.  59.  60.  61.  62.  63.  64.  65.  66.  67.  68.  69.  70.\n",
      "  71.  72.  73.  74.  75.  76.  77.  78.  79.  80.  81.  82.  83.  84.\n",
      "  85.  86.  87.  88.  89.  90.  91.  92.  93.  94.  95.  96.  97.  98.\n",
      "  99. 100. 101. 102. 103. 104. 105. 106. 107. 108. 109. 110. 111. 112.\n",
      " 113. 114. 115. 116. 117. 118. 119. 120. 121. 122. 123. 124. 125. 126.\n",
      " 127. 128. 129. 130. 131. 132. 133. 134. 135. 136. 137. 138. 139. 140.\n",
      " 141. 142. 143. 144. 145. 146. 147. 148. 149. 150. 151. 152. 153. 154.\n",
      " 155. 156. 157. 158. 159. 160. 161. 162. 163. 164. 165. 166. 167. 168.\n",
      " 169. 170. 171. 172. 173. 174. 175. 176. 177. 178. 179. 180. 181. 182.\n",
      " 183. 184. 185. 186. 187. 188. 189. 190. 191. 192. 193. 194. 195. 196.\n",
      " 197. 198. 199. 200.] ps\n"
     ]
    }
   ],
   "source": [
    " "
   ]
  },
  {
   "cell_type": "code",
   "execution_count": 1,
   "metadata": {},
   "outputs": [
    {
     "ename": "SyntaxError",
     "evalue": "invalid syntax (<ipython-input-1-722d2ba5e1db>, line 3)",
     "output_type": "error",
     "traceback": [
      "\u001b[0;36m  File \u001b[0;32m\"<ipython-input-1-722d2ba5e1db>\"\u001b[0;36m, line \u001b[0;32m3\u001b[0m\n\u001b[0;31m    rango_T = float(rango_T)\u001b[0m\n\u001b[0m          ^\u001b[0m\n\u001b[0;31mSyntaxError\u001b[0m\u001b[0;31m:\u001b[0m invalid syntax\n"
     ]
    }
   ],
   "source": [
    "replicas = input(\"Escribe el número de réplicas que deseas\")\n",
    "rango_T = (input(\"Escribe el rango de temperatura y el incremento a usar\")\n",
    "rango_T = float(rango_T)"
   ]
  },
  {
   "cell_type": "code",
   "execution_count": 4,
   "metadata": {},
   "outputs": [
    {
     "name": "stdout",
     "output_type": "stream",
     "text": [
      "300,400,25\n"
     ]
    }
   ],
   "source": [
    "print(rango_T)"
   ]
  },
  {
   "cell_type": "code",
   "execution_count": 6,
   "metadata": {},
   "outputs": [
    {
     "ename": "TypeError",
     "evalue": "unsupported operand type(s) for -: 'str' and 'int'",
     "output_type": "error",
     "traceback": [
      "\u001b[0;31m---------------------------------------------------------------------------\u001b[0m",
      "\u001b[0;31mTypeError\u001b[0m                                 Traceback (most recent call last)",
      "\u001b[0;32m<ipython-input-6-0776ddf28c7e>\u001b[0m in \u001b[0;36m<module>\u001b[0;34m\u001b[0m\n\u001b[0;32m----> 1\u001b[0;31m \u001b[0mnp\u001b[0m\u001b[0;34m.\u001b[0m\u001b[0marange\u001b[0m\u001b[0;34m(\u001b[0m\u001b[0mrango_T\u001b[0m\u001b[0;34m)\u001b[0m\u001b[0;34m\u001b[0m\u001b[0;34m\u001b[0m\u001b[0m\n\u001b[0m",
      "\u001b[0;31mTypeError\u001b[0m: unsupported operand type(s) for -: 'str' and 'int'"
     ]
    }
   ],
   "source": [
    "np.arange(rango_T)"
   ]
  },
  {
   "cell_type": "code",
   "execution_count": 1,
   "metadata": {},
   "outputs": [],
   "source": [
    "temps = [300,315,330,345,360,375,390]\n",
    "rep = range(len(temps))"
   ]
  },
  {
   "cell_type": "code",
   "execution_count": 2,
   "metadata": {},
   "outputs": [
    {
     "data": {
      "text/plain": [
       "range(0, 7)"
      ]
     },
     "execution_count": 2,
     "metadata": {},
     "output_type": "execute_result"
    }
   ],
   "source": [
    "rep"
   ]
  },
  {
   "cell_type": "code",
   "execution_count": 4,
   "metadata": {},
   "outputs": [
    {
     "data": {
      "text/plain": [
       "6"
      ]
     },
     "execution_count": 4,
     "metadata": {},
     "output_type": "execute_result"
    }
   ],
   "source": [
    "rep[6]"
   ]
  },
  {
   "cell_type": "code",
   "execution_count": null,
   "metadata": {},
   "outputs": [],
   "source": []
  }
 ],
 "metadata": {
  "kernelspec": {
   "display_name": "Python 3",
   "language": "python",
   "name": "python3"
  },
  "language_info": {
   "codemirror_mode": {
    "name": "ipython",
    "version": 3
   },
   "file_extension": ".py",
   "mimetype": "text/x-python",
   "name": "python",
   "nbconvert_exporter": "python",
   "pygments_lexer": "ipython3",
   "version": "3.7.3"
  }
 },
 "nbformat": 4,
 "nbformat_minor": 4
}
