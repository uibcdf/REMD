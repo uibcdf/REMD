{
 "cells": [
  {
   "cell_type": "code",
   "execution_count": 1,
   "metadata": {},
   "outputs": [],
   "source": [
    "import numpy as np\n",
    "import sympy as sy\n",
    "import matplotlib.pyplot as plt\n",
    "import simtk.openmm as mm\n",
    "import simtk.unit as unit\n",
    "import simtk.openmm.app as app\n",
    "from tqdm import tqdm\n",
    "import random"
   ]
  },
  {
   "cell_type": "code",
   "execution_count": 2,
   "metadata": {},
   "outputs": [
    {
     "data": {
      "text/plain": [
       "0"
      ]
     },
     "execution_count": 2,
     "metadata": {},
     "output_type": "execute_result"
    }
   ],
   "source": [
    "n_particles = 1\n",
    "system = mm.System()\n",
    "mass   = 14.007 * unit.amu # masa del átomo N\n",
    "system.addParticle(mass)\n",
    "\n",
    "force = mm.CustomExternalForce('Eo*(C*x^4-x^2)+M*x + (K/2.0)*(y^2+z^2)')\n",
    "force.addGlobalParameter('K', 35 * unit.kilocalories_per_mole/unit.angstrom**2)\n",
    "force.addGlobalParameter('Eo', 6.0 * unit.kilocalories_per_mole/unit.angstrom**2)\n",
    "force.addGlobalParameter('C', 0.4 * 1/unit.angstrom**2)\n",
    "force.addGlobalParameter('M', 0.25 * unit.kilocalories_per_mole/unit.angstrom)\n",
    "force.addParticle(0, [])\n",
    "system.addForce(force)"
   ]
  },
  {
   "cell_type": "code",
   "execution_count": 3,
   "metadata": {},
   "outputs": [
    {
     "name": "stderr",
     "output_type": "stream",
     "text": [
      "100%|██████████| 200/200 [00:03<00:00, 53.47it/s]\n",
      "100%|██████████| 200/200 [00:03<00:00, 52.00it/s]\n",
      "100%|██████████| 200/200 [00:03<00:00, 54.57it/s]\n",
      "100%|██████████| 200/200 [00:03<00:00, 54.32it/s]\n",
      "100%|██████████| 200/200 [00:03<00:00, 54.88it/s]\n",
      "100%|██████████| 200/200 [00:03<00:00, 56.01it/s]\n",
      "100%|██████████| 200/200 [00:03<00:00, 55.66it/s]\n"
     ]
    }
   ],
   "source": [
    "kB = unit.BOLTZMANN_CONSTANT_kB * unit.AVOGADRO_CONSTANT_NA\n",
    "temps = [300,315,330,345,360,375,390]\n",
    "pressure    = None\n",
    "\n",
    "step_size       = 0.01*unit.picoseconds\n",
    "num_steps       = 20000\n",
    "saving_period   = 100\n",
    "num_steps_saved = int(num_steps/saving_period)\n",
    "\n",
    "friction   = 1.0/unit.picosecond\n",
    "\n",
    "platform_name = 'CPU'  \n",
    "platform = mm.Platform.getPlatformByName(platform_name)\n",
    "\n",
    "\n",
    "for T in temps:\n",
    "    integrator = mm.LangevinIntegrator(T, friction, step_size)\n",
    "\n",
    "    times      = unit.Quantity(np.zeros([num_steps_saved], np.float32), unit.picoseconds)\n",
    "    positions  = unit.Quantity(np.zeros([num_steps_saved,3], np.float32), unit.angstroms)\n",
    "    velocities = unit.Quantity(np.zeros([num_steps_saved,3], np.float32), unit.angstroms/unit.picosecond)\n",
    "    potential_energies = unit.Quantity(np.zeros([num_steps_saved], np.float32), unit.kilocalories_per_mole)\n",
    "    kinetic_energies   = unit.Quantity(np.zeros([num_steps_saved], np.float32), unit.kilocalories_per_mole)\n",
    "\n",
    "    initial_positions  = np.zeros([n_particles, 3], np.float32) * unit.nanometers\n",
    "    initial_velocities = None \n",
    "\n",
    "    context = mm.Context(system, integrator, platform)\n",
    "    context.setPositions(initial_positions)\n",
    "    context.setVelocitiesToTemperature(T)\n",
    "\n",
    "    state = context.getState(getEnergy=True, getPositions=True, getVelocities=True)\n",
    "    times[0] = state.getTime()\n",
    "    positions[0] = state.getPositions()[0]\n",
    "    velocities[0] = state.getVelocities()[0]\n",
    "    kinetic_energies[0]=state.getKineticEnergy()\n",
    "    potential_energies[0]=state.getPotentialEnergy()\n",
    "\n",
    "    for ii in tqdm(range(num_steps_saved)):\n",
    "        context.getIntegrator().step(saving_period)\n",
    "        state = context.getState(getEnergy=True, getPositions=True, getVelocities=True)\n",
    "        times[ii] = state.getTime()\n",
    "        positions[ii] = state.getPositions()[0]\n",
    "        velocities[ii] = state.getVelocities()[0]\n",
    "        kinetic_energies[ii]=state.getKineticEnergy()\n",
    "        potential_energies[ii]=state.getPotentialEnergy()\n",
    "    contextos = []\n",
    "    contextos.append(times)\n"
   ]
  },
  {
   "cell_type": "code",
   "execution_count": 5,
   "metadata": {},
   "outputs": [
    {
     "name": "stdout",
     "output_type": "stream",
     "text": [
      "[Quantity(value=array([  1.,   2.,   3.,   4.,   5.,   6.,   7.,   8.,   9.,  10.,  11.,\n",
      "        12.,  13.,  14.,  15.,  16.,  17.,  18.,  19.,  20.,  21.,  22.,\n",
      "        23.,  24.,  25.,  26.,  27.,  28.,  29.,  30.,  31.,  32.,  33.,\n",
      "        34.,  35.,  36.,  37.,  38.,  39.,  40.,  41.,  42.,  43.,  44.,\n",
      "        45.,  46.,  47.,  48.,  49.,  50.,  51.,  52.,  53.,  54.,  55.,\n",
      "        56.,  57.,  58.,  59.,  60.,  61.,  62.,  63.,  64.,  65.,  66.,\n",
      "        67.,  68.,  69.,  70.,  71.,  72.,  73.,  74.,  75.,  76.,  77.,\n",
      "        78.,  79.,  80.,  81.,  82.,  83.,  84.,  85.,  86.,  87.,  88.,\n",
      "        89.,  90.,  91.,  92.,  93.,  94.,  95.,  96.,  97.,  98.,  99.,\n",
      "       100., 101., 102., 103., 104., 105., 106., 107., 108., 109., 110.,\n",
      "       111., 112., 113., 114., 115., 116., 117., 118., 119., 120., 121.,\n",
      "       122., 123., 124., 125., 126., 127., 128., 129., 130., 131., 132.,\n",
      "       133., 134., 135., 136., 137., 138., 139., 140., 141., 142., 143.,\n",
      "       144., 145., 146., 147., 148., 149., 150., 151., 152., 153., 154.,\n",
      "       155., 156., 157., 158., 159., 160., 161., 162., 163., 164., 165.,\n",
      "       166., 167., 168., 169., 170., 171., 172., 173., 174., 175., 176.,\n",
      "       177., 178., 179., 180., 181., 182., 183., 184., 185., 186., 187.,\n",
      "       188., 189., 190., 191., 192., 193., 194., 195., 196., 197., 198.,\n",
      "       199., 200.], dtype=float32), unit=picosecond)]\n"
     ]
    }
   ],
   "source": [
    "print(contextos)"
   ]
  },
  {
   "cell_type": "code",
   "execution_count": 7,
   "metadata": {},
   "outputs": [
    {
     "name": "stdin",
     "output_type": "stream",
     "text": [
      "Escribe el número de réplicas que deseas 3\n",
      "Escribe el rango de temperatura y el incremento a usar 300,310,5\n"
     ]
    },
    {
     "ename": "ValueError",
     "evalue": "could not convert string to float: '300,310,5'",
     "output_type": "error",
     "traceback": [
      "\u001b[0;31m---------------------------------------------------------------------------\u001b[0m",
      "\u001b[0;31mValueError\u001b[0m                                Traceback (most recent call last)",
      "\u001b[0;32m<ipython-input-7-761f279640f9>\u001b[0m in \u001b[0;36m<module>\u001b[0;34m\u001b[0m\n\u001b[1;32m      1\u001b[0m \u001b[0mreplicas\u001b[0m \u001b[0;34m=\u001b[0m \u001b[0minput\u001b[0m\u001b[0;34m(\u001b[0m\u001b[0;34m\"Escribe el número de réplicas que deseas\"\u001b[0m\u001b[0;34m)\u001b[0m\u001b[0;34m\u001b[0m\u001b[0;34m\u001b[0m\u001b[0m\n\u001b[0;32m----> 2\u001b[0;31m \u001b[0mrango_T\u001b[0m \u001b[0;34m=\u001b[0m \u001b[0mfloat\u001b[0m\u001b[0;34m(\u001b[0m\u001b[0minput\u001b[0m\u001b[0;34m(\u001b[0m\u001b[0;34m\"Escribe el rango de temperatura y el incremento a usar\"\u001b[0m\u001b[0;34m)\u001b[0m\u001b[0;34m)\u001b[0m\u001b[0;34m\u001b[0m\u001b[0;34m\u001b[0m\u001b[0m\n\u001b[0m",
      "\u001b[0;31mValueError\u001b[0m: could not convert string to float: '300,310,5'"
     ]
    }
   ],
   "source": [
    "replicas = input(\"Escribe el número de réplicas que deseas\")\n",
    "rango_T = float(input(\"Escribe el rango de temperatura y el incremento a usar\"))"
   ]
  },
  {
   "cell_type": "code",
   "execution_count": 4,
   "metadata": {},
   "outputs": [
    {
     "name": "stdout",
     "output_type": "stream",
     "text": [
      "300,400,25\n"
     ]
    }
   ],
   "source": [
    "print(rango_T)"
   ]
  },
  {
   "cell_type": "code",
   "execution_count": 6,
   "metadata": {},
   "outputs": [
    {
     "ename": "TypeError",
     "evalue": "unsupported operand type(s) for -: 'str' and 'int'",
     "output_type": "error",
     "traceback": [
      "\u001b[0;31m---------------------------------------------------------------------------\u001b[0m",
      "\u001b[0;31mTypeError\u001b[0m                                 Traceback (most recent call last)",
      "\u001b[0;32m<ipython-input-6-0776ddf28c7e>\u001b[0m in \u001b[0;36m<module>\u001b[0;34m\u001b[0m\n\u001b[0;32m----> 1\u001b[0;31m \u001b[0mnp\u001b[0m\u001b[0;34m.\u001b[0m\u001b[0marange\u001b[0m\u001b[0;34m(\u001b[0m\u001b[0mrango_T\u001b[0m\u001b[0;34m)\u001b[0m\u001b[0;34m\u001b[0m\u001b[0;34m\u001b[0m\u001b[0m\n\u001b[0m",
      "\u001b[0;31mTypeError\u001b[0m: unsupported operand type(s) for -: 'str' and 'int'"
     ]
    }
   ],
   "source": [
    "np.arange(rango_T)"
   ]
  },
  {
   "cell_type": "code",
   "execution_count": null,
   "metadata": {},
   "outputs": [],
   "source": []
  }
 ],
 "metadata": {
  "kernelspec": {
   "display_name": "Python 3",
   "language": "python",
   "name": "python3"
  },
  "language_info": {
   "codemirror_mode": {
    "name": "ipython",
    "version": 3
   },
   "file_extension": ".py",
   "mimetype": "text/x-python",
   "name": "python",
   "nbconvert_exporter": "python",
   "pygments_lexer": "ipython3",
   "version": "3.7.3"
  }
 },
 "nbformat": 4,
 "nbformat_minor": 4
}
