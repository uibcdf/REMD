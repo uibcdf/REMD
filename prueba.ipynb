{
 "cells": [
  {
   "cell_type": "code",
   "execution_count": 1,
   "metadata": {},
   "outputs": [],
   "source": [
    "import numpy as np\n",
    "import sympy as sy\n",
    "import matplotlib.pyplot as plt\n",
    "import simtk.openmm as mm\n",
    "import simtk.unit as unit\n",
    "import simtk.openmm.app as app\n",
    "from tqdm import tqdm\n",
    "import random"
   ]
  },
  {
   "cell_type": "code",
   "execution_count": 2,
   "metadata": {},
   "outputs": [
    {
     "data": {
      "text/plain": [
       "0"
      ]
     },
     "execution_count": 2,
     "metadata": {},
     "output_type": "execute_result"
    }
   ],
   "source": [
    "n_particles = 1\n",
    "system = mm.System()\n",
    "mass   = 14.007 * unit.amu # masa del átomo N\n",
    "system.addParticle(mass)\n",
    "\n",
    "force = mm.CustomExternalForce('Eo*(C*x^4-x^2)+M*x + (K/2.0)*(y^2+z^2)')\n",
    "force.addGlobalParameter('K', 35 * unit.kilocalories_per_mole/unit.angstrom**2)\n",
    "force.addGlobalParameter('Eo', 6.0 * unit.kilocalories_per_mole/unit.angstrom**2)\n",
    "force.addGlobalParameter('C', 0.4 * 1/unit.angstrom**2)\n",
    "force.addGlobalParameter('M', 0.25 * unit.kilocalories_per_mole/unit.angstrom)\n",
    "force.addParticle(0, [])\n",
    "system.addForce(force)"
   ]
  },
  {
   "cell_type": "code",
   "execution_count": 3,
   "metadata": {},
   "outputs": [
    {
     "name": "stdin",
     "output_type": "stream",
     "text": [
      "Escribe T inicial: 300\n",
      "Escribe la temperatura máxima: 305\n"
     ]
    }
   ],
   "source": [
    "reps = []\n",
    "reps.append(int(input(\"Escribe T inicial:\")))\n",
    "reps.append(int(input(\"Escribe la temperatura máxima:\")))\n",
    "\n",
    "reps = list(range(reps[0],reps[1]+1))*unit.kelvin\n",
    "kB = unit.BOLTZMANN_CONSTANT_kB * unit.AVOGADRO_CONSTANT_NA\n",
    "pressure    = None\n",
    "\n",
    "num_steps       = 20000\n",
    "saving_period   = 100\n",
    "num_steps_saved = int(num_steps/saving_period)\n",
    "\n",
    "friction   = 1.0/unit.picosecond\n",
    "\n",
    "platform_name = 'CPU'  \n",
    "platform = mm.Platform.getPlatformByName(platform_name)\n",
    "\n",
    "step_size = 0.01*unit.picoseconds\n",
    "\n",
    "intg = {}\n",
    "for ii in range(len(reps)):\n",
    "    for T in reps:\n",
    "        intg[\"integrator{0}\".format(ii)] = mm.LangevinIntegrator(T, friction, step_size)\n",
    "    \n",
    "ts = {}\n",
    "pos = {}\n",
    "vel = {}\n",
    "pot_en = {}\n",
    "kin_en = {}\n",
    "init_pos = {}\n",
    "init_vel = {}\n",
    "contxt = {}\n",
    "sts = {}\n",
    "\n",
    "for ii in range(len(reps)):\n",
    "    ts[\"times{0}\".format(ii)] = unit.Quantity(np.zeros([num_steps_saved], np.float32), unit.picoseconds)\n",
    "    pos[\"positions{0}\".format(ii)]  = unit.Quantity(np.zeros([num_steps_saved,3], np.float32), unit.angstroms)\n",
    "    vel[\"velocities{0}\".format(ii)] = unit.Quantity(np.zeros([num_steps_saved,3], np.float32), unit.angstroms/unit.picosecond)\n",
    "    pot_en[\"potential_energies{0}\".format(ii)] = unit.Quantity(np.zeros([num_steps_saved], np.float32), unit.kilocalories_per_mole)\n",
    "    kin_en[\"kinetic_energies{0}\".format(ii)] = unit.Quantity(np.zeros([num_steps_saved], np.float32), unit.kilocalories_per_mole)\n",
    "    init_pos[\"initial_positions{0}\".format(ii)] = np.zeros([n_particles, 3], np.float32) * unit.nanometers\n",
    "    init_vel[\"initial_velocities{0}\".format(ii)] = None "
   ]
  },
  {
   "cell_type": "code",
   "execution_count": 4,
   "metadata": {},
   "outputs": [],
   "source": [
    "contxt = []\n",
    "for x in intg.values():\n",
    "        contxt.append(x)"
   ]
  },
  {
   "cell_type": "code",
   "execution_count": 23,
   "metadata": {},
   "outputs": [
    {
     "name": "stdout",
     "output_type": "stream",
     "text": [
      "6\n"
     ]
    }
   ],
   "source": [
    "for cont in contxt:\n",
    "    context[ii].setPositions(initial_positions[ii])\n",
    "    for T in reps:\n",
    "        context[ii]setVelocitiesToTemperature(T)"
   ]
  },
  {
   "cell_type": "code",
   "execution_count": 24,
   "metadata": {},
   "outputs": [
    {
     "name": "stdout",
     "output_type": "stream",
     "text": [
      "[<simtk.openmm.openmm.LangevinIntegrator; proxy of <Swig Object of type 'OpenMM::LangevinIntegrator *' at 0x7fa7e1b059f0> >, <simtk.openmm.openmm.LangevinIntegrator; proxy of <Swig Object of type 'OpenMM::LangevinIntegrator *' at 0x7fa7d5741690> >, <simtk.openmm.openmm.LangevinIntegrator; proxy of <Swig Object of type 'OpenMM::LangevinIntegrator *' at 0x7fa7d57411e0> >, <simtk.openmm.openmm.LangevinIntegrator; proxy of <Swig Object of type 'OpenMM::LangevinIntegrator *' at 0x7fa7d5741660> >, <simtk.openmm.openmm.LangevinIntegrator; proxy of <Swig Object of type 'OpenMM::LangevinIntegrator *' at 0x7fa7d5741180> >, <simtk.openmm.openmm.LangevinIntegrator; proxy of <Swig Object of type 'OpenMM::LangevinIntegrator *' at 0x7fa7d57413f0> >]\n"
     ]
    }
   ],
   "source": [
    "print(contxt)"
   ]
  },
  {
   "cell_type": "code",
   "execution_count": null,
   "metadata": {},
   "outputs": [],
   "source": [
    "context = mm.Context(system, intg[\"integrator0\"], platform)\n",
    "\n",
    "contxt = []\n",
    "contxt.append(context)\n",
    "print(contxt[0])\n",
    "\n"
   ]
  },
  {
   "cell_type": "code",
   "execution_count": null,
   "metadata": {},
   "outputs": [],
   "source": [
    "step_size = 0.01*unit.picoseconds\n",
    "kB = unit.BOLTZMANN_CONSTANT_kB * unit.AVOGADRO_CONSTANT_NA\n",
    "pressure    = None\n",
    "\n",
    "num_steps       = 20000\n",
    "saving_period   = 100\n",
    "num_steps_saved = int(num_steps/saving_period)\n",
    "\n",
    "friction   = 1.0/unit.picosecond\n",
    "platform_name = 'CPU'  \n",
    "platform = mm.Platform.getPlatformByName(platform_name)\n",
    "\n",
    "integrator = mm.LangevinIntegrator(reps[0], friction, step_size)\n",
    "integrator2 = mm.LangevinIntegrator(reps[1], friction, step_size)\n",
    "\n",
    "context = mm.Context(system, integrator, platform)"
   ]
  },
  {
   "cell_type": "code",
   "execution_count": null,
   "metadata": {},
   "outputs": [],
   "source": [
    "integrator"
   ]
  },
  {
   "cell_type": "code",
   "execution_count": null,
   "metadata": {},
   "outputs": [],
   "source": [
    "integrator2"
   ]
  },
  {
   "cell_type": "code",
   "execution_count": null,
   "metadata": {},
   "outputs": [],
   "source": [
    "context"
   ]
  },
  {
   "cell_type": "code",
   "execution_count": null,
   "metadata": {},
   "outputs": [],
   "source": [
    "temps = list(range(300,306))*unit.kelvin"
   ]
  },
  {
   "cell_type": "code",
   "execution_count": null,
   "metadata": {},
   "outputs": [],
   "source": [
    "temps"
   ]
  },
  {
   "cell_type": "code",
   "execution_count": null,
   "metadata": {},
   "outputs": [],
   "source": []
  }
 ],
 "metadata": {
  "kernelspec": {
   "display_name": "Python 3",
   "language": "python",
   "name": "python3"
  },
  "language_info": {
   "codemirror_mode": {
    "name": "ipython",
    "version": 3
   },
   "file_extension": ".py",
   "mimetype": "text/x-python",
   "name": "python",
   "nbconvert_exporter": "python",
   "pygments_lexer": "ipython3",
   "version": "3.7.4"
  }
 },
 "nbformat": 4,
 "nbformat_minor": 4
}
