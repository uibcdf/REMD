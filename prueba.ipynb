{
 "cells": [
  {
   "cell_type": "code",
   "execution_count": 1,
   "metadata": {},
   "outputs": [],
   "source": [
    "import numpy as np\n",
    "import sympy as sy\n",
    "import matplotlib.pyplot as plt\n",
    "import simtk.openmm as mm\n",
    "import simtk.unit as unit\n",
    "import simtk.openmm.app as app\n",
    "from tqdm import tqdm\n",
    "import random"
   ]
  },
  {
   "cell_type": "code",
   "execution_count": 2,
   "metadata": {},
   "outputs": [
    {
     "data": {
      "text/plain": [
       "0"
      ]
     },
     "execution_count": 2,
     "metadata": {},
     "output_type": "execute_result"
    }
   ],
   "source": [
    "n_particles = 1\n",
    "system = mm.System()\n",
    "mass   = 14.007 * unit.amu # masa del átomo N\n",
    "system.addParticle(mass)\n",
    "\n",
    "force = mm.CustomExternalForce('Eo*(C*x^4-x^2)+M*x + (K/2.0)*(y^2+z^2)')\n",
    "force.addGlobalParameter('K', 35 * unit.kilocalories_per_mole/unit.angstrom**2)\n",
    "force.addGlobalParameter('Eo', 6.0 * unit.kilocalories_per_mole/unit.angstrom**2)\n",
    "force.addGlobalParameter('C', 0.4 * 1/unit.angstrom**2)\n",
    "force.addGlobalParameter('M', 0.25 * unit.kilocalories_per_mole/unit.angstrom)\n",
    "force.addParticle(0, [])\n",
    "system.addForce(force)"
   ]
  },
  {
   "cell_type": "code",
   "execution_count": null,
   "metadata": {},
   "outputs": [],
   "source": [
    "kB = unit.BOLTZMANN_CONSTANT_kB * unit.AVOGADRO_CONSTANT_NA\n",
    "temps = [300,315,330,345,360,375,390]\n",
    "rep = range(len(temps))\n",
    "pressure    = None\n",
    "\n",
    "step_size       = 0.01*unit.picoseconds\n",
    "num_steps       = 20000\n",
    "saving_period   = 100\n",
    "num_steps_saved = int(num_steps/saving_period)\n",
    "\n",
    "friction   = 1.0/unit.picosecond\n",
    "\n",
    "platform_name = 'CPU'  \n",
    "platform = mm.Platform.getPlatformByName(platform_name)\n",
    "\n",
    "contexto = []\n",
    "\n",
    "\n",
    "for T in temps:\n",
    "    integrator_T = mm.LangevinIntegrator(T, friction, step_size)\n",
    "    times = unit.Quantity(np.zeros([num_steps_saved], np.float32), unit.picoseconds)\n",
    "    positions  = unit.Quantity(np.zeros([num_steps_saved,3], np.float32), unit.angstroms)\n",
    "    velocities = unit.Quantity(np.zeros([num_steps_saved,3], np.float32), unit.angstroms/unit.picosecond)\n",
    "    potential_energies = unit.Quantity(np.zeros([num_steps_saved], np.float32), unit.kilocalories_per_mole)\n",
    "    kinetic_energies   = unit.Quantity(np.zeros([num_steps_saved], np.float32), unit.kilocalories_per_mole)\n",
    "\n",
    "    initial_positions  = np.zeros([n_particles, 3], np.float32) * unit.nanometers\n",
    "    initial_velocities = None \n",
    "\n",
    "    context_T = mm.Context(system, integrator_T, platform)\n",
    "    context_T.setPositions(initial_positions_T)\n",
    "    context_T.setVelocitiesToTemperature(T)\n",
    "\n",
    "    state_T = context_T.getState(getEnergy=True, getPositions=True, getVelocities=True)\n",
    "    times_T[0] = state_T.getTime()\n",
    "    positions_T[0] = state_T.getPositions()[0]\n",
    "    velocities_T[0] = state_T.getVelocities()[0]\n",
    "    kinetic_energies_T[0]=state_T.getKineticEnergy()\n",
    "    potential_energies_T[0]=state_T.getPotentialEnergy()\n",
    "\n",
    "    for ii in tqdm(range(num_steps_saved)):\n",
    "        context_T.getIntegrator().step(saving_period)\n",
    "        state_T = context_T.getState(getEnergy=True, getPositions=True, getVelocities=True)\n",
    "        times_T[ii] = state_T.getTime()\n",
    "        positions_T[ii] = state_T.getPositions()[0]\n",
    "        velocities_T[ii] = state_T.getVelocities()[0]\n",
    "        kinetic_energies_T[ii]=state_T.getKineticEnergy()\n",
    "        potential_energies_T[ii]=state_T.getPotentialEnergy()\n",
    " "
   ]
  },
  {
   "cell_type": "code",
   "execution_count": null,
   "metadata": {},
   "outputs": [],
   "source": [
    "reps = []\n",
    "reps.append(int(input(\"Escribe T inicial:\")))\n",
    "reps.append(int(input(\"Escribe la temperatura máxima:\")))\n",
    "reps.append(int(input(\"Escribe el incremento de T entre réplicas:\")))\n",
    "\n",
    "reps = np.arange(reps[0],reps[1]+reps[2],reps[2])\n",
    "reps = list(reps)*unit.kelvin\n",
    "\n",
    "print(reps)"
   ]
  },
  {
   "cell_type": "code",
   "execution_count": null,
   "metadata": {},
   "outputs": [],
   "source": [
    "reps = []\n",
    "reps.append(int(input(\"Escribe T inicial:\")))\n",
    "reps.append(int(input(\"Escribe la temperatura máxima:\")))\n",
    "reps.append(int(input(\"Escribe el incremento de T entre réplicas:\")))\n",
    "\n",
    "reps = np.arange(reps[0],reps[1]+reps[2],reps[2])\n",
    "reps = list(reps)*unit.kelvin\n",
    "kB = unit.BOLTZMANN_CONSTANT_kB * unit.AVOGADRO_CONSTANT_NA\n",
    "pressure    = None\n",
    "\n",
    "num_steps       = 20000\n",
    "saving_period   = 100\n",
    "num_steps_saved = int(num_steps/saving_period)\n",
    "\n",
    "friction   = 1.0/unit.picosecond\n",
    "\n",
    "platform_name = 'CPU'  \n",
    "platform = mm.Platform.getPlatformByName(platform_name)"
   ]
  },
  {
   "cell_type": "code",
   "execution_count": 3,
   "metadata": {},
   "outputs": [],
   "source": [
    "reps = [300,301,302,303,304,305]*unit.kelvin"
   ]
  },
  {
   "cell_type": "code",
   "execution_count": 4,
   "metadata": {},
   "outputs": [],
   "source": [
    "step_size       = 0.01*unit.picoseconds\n",
    "kB = unit.BOLTZMANN_CONSTANT_kB * unit.AVOGADRO_CONSTANT_NA\n",
    "pressure    = None\n",
    "\n",
    "num_steps       = 20000\n",
    "saving_period   = 100\n",
    "num_steps_saved = int(num_steps/saving_period)\n",
    "\n",
    "friction   = 1.0/unit.picosecond\n",
    "platform_name = 'CPU'  \n",
    "platform = mm.Platform.getPlatformByName(platform_name)\n",
    "\n",
    "intg = {}\n",
    "for ii in range(len(reps)):\n",
    "    for T in reps:\n",
    "        intg[\"integrator{0}\".format(ii)] = mm.LangevinIntegrator(T, friction, step_size)\n",
    "    \n",
    "ts = {}\n",
    "pos = {}\n",
    "vel = {}\n",
    "pot_en = {}\n",
    "kin_en = {}\n",
    "init_pos = {}\n",
    "init_vel = {}\n",
    "contxt = {}\n",
    "sts = {}\n",
    "\n",
    "for ii in range(len(reps)):\n",
    "    ts[\"times{0}\".format(ii)] = unit.Quantity(np.zeros([num_steps_saved], np.float32), unit.picoseconds)\n",
    "    pos[\"positions{0}\".format(ii)]  = unit.Quantity(np.zeros([num_steps_saved,3], np.float32), unit.angstroms)\n",
    "    vel[\"velocities{0}\".format(ii)] = unit.Quantity(np.zeros([num_steps_saved,3], np.float32), unit.angstroms/unit.picosecond)\n",
    "    pot_en[\"potential_energies{0}\".format(ii)] = unit.Quantity(np.zeros([num_steps_saved], np.float32), unit.kilocalories_per_mole)\n",
    "    kin_en[\"kinetic_energies{0}\".format(ii)] = unit.Quantity(np.zeros([num_steps_saved], np.float32), unit.kilocalories_per_mole)\n",
    "    init_pos[\"initial_positions{0}\".format(ii)] = np.zeros([n_particles, 3], np.float32) * unit.nanometers\n",
    "    init_vel[\"initial_velocities{0}\".format(ii)] = None \n"
   ]
  },
  {
   "cell_type": "code",
   "execution_count": 6,
   "metadata": {},
   "outputs": [
    {
     "ename": "NotImplementedError",
     "evalue": "Wrong number or type of arguments for overloaded function 'new_Context'.\n  Possible C/C++ prototypes are:\n    OpenMM::Context::Context(OpenMM::System const &,OpenMM::Integrator &)\n    OpenMM::Context::Context(OpenMM::System const &,OpenMM::Integrator &,OpenMM::Platform &)\n    OpenMM::Context::Context(OpenMM::System const &,OpenMM::Integrator &,OpenMM::Platform &,std::map< std::string,std::string,std::less< std::string >,std::allocator< std::pair< std::string const,std::string > > > const &)\n    OpenMM::Context::Context(OpenMM::Context const &)\n",
     "output_type": "error",
     "traceback": [
      "\u001b[0;31m---------------------------------------------------------------------------\u001b[0m",
      "\u001b[0;31mNotImplementedError\u001b[0m                       Traceback (most recent call last)",
      "\u001b[0;32m<ipython-input-6-1dd3868f42e5>\u001b[0m in \u001b[0;36m<module>\u001b[0;34m\u001b[0m\n\u001b[1;32m      1\u001b[0m \u001b[0;32mfor\u001b[0m \u001b[0mx\u001b[0m \u001b[0;32min\u001b[0m \u001b[0mintg\u001b[0m\u001b[0;34m:\u001b[0m\u001b[0;34m\u001b[0m\u001b[0;34m\u001b[0m\u001b[0m\n\u001b[1;32m      2\u001b[0m     \u001b[0;32mfor\u001b[0m \u001b[0mii\u001b[0m \u001b[0;32min\u001b[0m \u001b[0mrange\u001b[0m\u001b[0;34m(\u001b[0m\u001b[0mlen\u001b[0m\u001b[0;34m(\u001b[0m\u001b[0mreps\u001b[0m\u001b[0;34m)\u001b[0m\u001b[0;34m)\u001b[0m\u001b[0;34m:\u001b[0m\u001b[0;34m\u001b[0m\u001b[0;34m\u001b[0m\u001b[0m\n\u001b[0;32m----> 3\u001b[0;31m         \u001b[0mcontxt\u001b[0m\u001b[0;34m[\u001b[0m\u001b[0;34m\"context{0}\"\u001b[0m\u001b[0;34m.\u001b[0m\u001b[0mformat\u001b[0m\u001b[0;34m(\u001b[0m\u001b[0mii\u001b[0m\u001b[0;34m)\u001b[0m\u001b[0;34m]\u001b[0m \u001b[0;34m=\u001b[0m \u001b[0mmm\u001b[0m\u001b[0;34m.\u001b[0m\u001b[0mContext\u001b[0m\u001b[0;34m(\u001b[0m\u001b[0msystem\u001b[0m\u001b[0;34m,\u001b[0m \u001b[0mx\u001b[0m\u001b[0;34m,\u001b[0m \u001b[0mplatform\u001b[0m\u001b[0;34m)\u001b[0m\u001b[0;34m\u001b[0m\u001b[0;34m\u001b[0m\u001b[0m\n\u001b[0m",
      "\u001b[0;32m~/anaconda3/envs/academia/lib/python3.7/site-packages/simtk/openmm/openmm.py\u001b[0m in \u001b[0;36m__init__\u001b[0;34m(self, *args)\u001b[0m\n\u001b[1;32m  18606\u001b[0m             \u001b[0ma\u001b[0m \u001b[0mset\u001b[0m \u001b[0mof\u001b[0m \u001b[0mvalues\u001b[0m \u001b[0;32mfor\u001b[0m \u001b[0mplatform\u001b[0m\u001b[0;34m-\u001b[0m\u001b[0mspecific\u001b[0m \u001b[0mproperties\u001b[0m\u001b[0;34m.\u001b[0m \u001b[0mKeys\u001b[0m \u001b[0mare\u001b[0m \u001b[0mthe\u001b[0m \u001b[0mproperty\u001b[0m \u001b[0mnames\u001b[0m\u001b[0;34m.\u001b[0m\u001b[0;34m\u001b[0m\u001b[0;34m\u001b[0m\u001b[0m\n\u001b[1;32m  18607\u001b[0m         \"\"\"\n\u001b[0;32m> 18608\u001b[0;31m         \u001b[0mthis\u001b[0m \u001b[0;34m=\u001b[0m \u001b[0m_openmm\u001b[0m\u001b[0;34m.\u001b[0m\u001b[0mnew_Context\u001b[0m\u001b[0;34m(\u001b[0m\u001b[0;34m*\u001b[0m\u001b[0margs\u001b[0m\u001b[0;34m)\u001b[0m\u001b[0;34m\u001b[0m\u001b[0;34m\u001b[0m\u001b[0m\n\u001b[0m\u001b[1;32m  18609\u001b[0m         \u001b[0;32mtry\u001b[0m\u001b[0;34m:\u001b[0m\u001b[0;34m\u001b[0m\u001b[0;34m\u001b[0m\u001b[0m\n\u001b[1;32m  18610\u001b[0m             \u001b[0mself\u001b[0m\u001b[0;34m.\u001b[0m\u001b[0mthis\u001b[0m\u001b[0;34m.\u001b[0m\u001b[0mappend\u001b[0m\u001b[0;34m(\u001b[0m\u001b[0mthis\u001b[0m\u001b[0;34m)\u001b[0m\u001b[0;34m\u001b[0m\u001b[0;34m\u001b[0m\u001b[0m\n",
      "\u001b[0;31mNotImplementedError\u001b[0m: Wrong number or type of arguments for overloaded function 'new_Context'.\n  Possible C/C++ prototypes are:\n    OpenMM::Context::Context(OpenMM::System const &,OpenMM::Integrator &)\n    OpenMM::Context::Context(OpenMM::System const &,OpenMM::Integrator &,OpenMM::Platform &)\n    OpenMM::Context::Context(OpenMM::System const &,OpenMM::Integrator &,OpenMM::Platform &,std::map< std::string,std::string,std::less< std::string >,std::allocator< std::pair< std::string const,std::string > > > const &)\n    OpenMM::Context::Context(OpenMM::Context const &)\n"
     ]
    }
   ],
   "source": [
    "for x in intg:\n",
    "    for ii in range(len(reps)):\n",
    "        contxt[\"context{0}\".format(ii)] = mm.Context(system, x, platform)"
   ]
  },
  {
   "cell_type": "code",
   "execution_count": 3,
   "metadata": {},
   "outputs": [
    {
     "name": "stdout",
     "output_type": "stream",
     "text": [
      "range(0, 5)\n"
     ]
    }
   ],
   "source": [
    "lista = [1,2,3,4,5]\n",
    "n_lis = len(lista)\n",
    "print(range(n_lis))"
   ]
  },
  {
   "cell_type": "code",
   "execution_count": null,
   "metadata": {},
   "outputs": [],
   "source": [
    "sts[\"state{0}\".format(ii)]= context[ii].getState(getEnergy=True, getPositions=True, getVelocities=True)"
   ]
  }
 ],
 "metadata": {
  "kernelspec": {
   "display_name": "Python 3",
   "language": "python",
   "name": "python3"
  },
  "language_info": {
   "codemirror_mode": {
    "name": "ipython",
    "version": 3
   },
   "file_extension": ".py",
   "mimetype": "text/x-python",
   "name": "python",
   "nbconvert_exporter": "python",
   "pygments_lexer": "ipython3",
   "version": "3.7.3"
  }
 },
 "nbformat": 4,
 "nbformat_minor": 4
}
