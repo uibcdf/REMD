{
 "cells": [
  {
   "cell_type": "code",
   "execution_count": 9,
   "metadata": {},
   "outputs": [],
   "source": [
    "import numpy as np\n",
    "import sympy as sy\n",
    "import matplotlib.pyplot as plt\n",
    "import simtk.openmm as mm\n",
    "import simtk.unit as unit\n",
    "import simtk.openmm.app as app\n",
    "from tqdm import tqdm\n",
    "import random"
   ]
  },
  {
   "cell_type": "code",
   "execution_count": 2,
   "metadata": {},
   "outputs": [
    {
     "data": {
      "text/plain": [
       "0"
      ]
     },
     "execution_count": 2,
     "metadata": {},
     "output_type": "execute_result"
    }
   ],
   "source": [
    "n_particles = 1\n",
    "system = mm.System()\n",
    "mass   = 14.007 * unit.amu # masa del átomo N\n",
    "system.addParticle(mass)\n",
    "\n",
    "force = mm.CustomExternalForce('Eo*(C*x^4-x^2)+M*x + (K/2.0)*(y^2+z^2)')\n",
    "force.addGlobalParameter('K', 35 * unit.kilocalories_per_mole/unit.angstrom**2)\n",
    "force.addGlobalParameter('Eo', 6.0 * unit.kilocalories_per_mole/unit.angstrom**2)\n",
    "force.addGlobalParameter('C', 0.4 * 1/unit.angstrom**2)\n",
    "force.addGlobalParameter('M', 0.25 * unit.kilocalories_per_mole/unit.angstrom)\n",
    "force.addParticle(0, [])\n",
    "system.addForce(force)"
   ]
  },
  {
   "cell_type": "code",
   "execution_count": 6,
   "metadata": {},
   "outputs": [
    {
     "name": "stderr",
     "output_type": "stream",
     "text": [
      "100%|██████████| 200/200 [00:03<00:00, 54.63it/s]\n",
      "100%|██████████| 200/200 [00:03<00:00, 55.21it/s]\n",
      "100%|██████████| 200/200 [00:03<00:00, 54.28it/s]\n",
      "100%|██████████| 200/200 [00:03<00:00, 55.53it/s]\n",
      "100%|██████████| 200/200 [00:03<00:00, 54.67it/s]\n",
      "100%|██████████| 200/200 [00:03<00:00, 53.91it/s]\n",
      "100%|██████████| 200/200 [00:03<00:00, 54.88it/s]\n"
     ]
    }
   ],
   "source": [
    "kB = unit.BOLTZMANN_CONSTANT_kB * unit.AVOGADRO_CONSTANT_NA\n",
    "temps = [300,315,330,345,360,375,390]\n",
    "rep = range(len(temps))\n",
    "pressure    = None\n",
    "\n",
    "step_size       = 0.01*unit.picoseconds\n",
    "num_steps       = 20000\n",
    "saving_period   = 100\n",
    "num_steps_saved = int(num_steps/saving_period)\n",
    "\n",
    "friction   = 1.0/unit.picosecond\n",
    "\n",
    "platform_name = 'CPU'  \n",
    "platform = mm.Platform.getPlatformByName(platform_name)\n",
    "\n",
    "contexto = []\n",
    "\n",
    "\n",
    "for T in temps:\n",
    "    integrator_T = mm.LangevinIntegrator(T, friction, step_size)\n",
    "    times_T = unit.Quantity(np.zeros([num_steps_saved], np.float32), unit.picoseconds)\n",
    "    positions_T  = unit.Quantity(np.zeros([num_steps_saved,3], np.float32), unit.angstroms)\n",
    "    velocities_T = unit.Quantity(np.zeros([num_steps_saved,3], np.float32), unit.angstroms/unit.picosecond)\n",
    "    potential_energies_T = unit.Quantity(np.zeros([num_steps_saved], np.float32), unit.kilocalories_per_mole)\n",
    "    kinetic_energies_T   = unit.Quantity(np.zeros([num_steps_saved], np.float32), unit.kilocalories_per_mole)\n",
    "\n",
    "    initial_positions_T  = np.zeros([n_particles, 3], np.float32) * unit.nanometers\n",
    "    initial_velocities_T = None \n",
    "\n",
    "    context_T = mm.Context(system, integrator_T, platform)\n",
    "    context_T.setPositions(initial_positions_T)\n",
    "    context_T.setVelocitiesToTemperature(T)\n",
    "\n",
    "    state_T = context_T.getState(getEnergy=True, getPositions=True, getVelocities=True)\n",
    "    times_T[0] = state_T.getTime()\n",
    "    positions_T[0] = state_T.getPositions()[0]\n",
    "    velocities_T[0] = state_T.getVelocities()[0]\n",
    "    kinetic_energies_T[0]=state_T.getKineticEnergy()\n",
    "    potential_energies_T[0]=state_T.getPotentialEnergy()\n",
    "\n",
    "    for ii in tqdm(range(num_steps_saved)):\n",
    "        context_T.getIntegrator().step(saving_period)\n",
    "        state_T = context_T.getState(getEnergy=True, getPositions=True, getVelocities=True)\n",
    "        times_T[ii] = state_T.getTime()\n",
    "        positions_T[ii] = state_T.getPositions()[0]\n",
    "        velocities_T[ii] = state_T.getVelocities()[0]\n",
    "        kinetic_energies_T[ii]=state_T.getKineticEnergy()\n",
    "        potential_energies_T[ii]=state_T.getPotentialEnergy()\n",
    " "
   ]
  },
  {
   "cell_type": "code",
   "execution_count": 24,
   "metadata": {},
   "outputs": [
    {
     "name": "stdin",
     "output_type": "stream",
     "text": [
      "Escribe T inicial: 300\n",
      "Escribe la temperatura máxima: 350\n",
      "Escribe el incremento de T entre réplicas: 5\n"
     ]
    }
   ],
   "source": [
    "reps = []\n",
    "reps.append(int(input(\"Escribe T inicial:\")))\n",
    "reps.append(int(input(\"Escribe la temperatura máxima:\")))\n",
    "reps.append(int(input(\"Escribe el incremento de T entre réplicas:\")))\n",
    "\n",
    "np.arange(reps[0],reps[1]+reps[2],reps[2])\n",
    "kB = unit.BOLTZMANN_CONSTANT_kB * unit.AVOGADRO_CONSTANT_NA\n",
    "pressure    = None\n",
    "step_size       = 0.01*unit.picoseconds\n",
    "num_steps       = 20000\n",
    "saving_period   = 100\n",
    "num_steps_saved = int(num_steps/saving_period)\n",
    "\n",
    "friction   = 1.0/unit.picosecond\n",
    "\n",
    "platform_name = 'CPU'  \n",
    "platform = mm.Platform.getPlatformByName(platform_name)"
   ]
  },
  {
   "cell_type": "code",
   "execution_count": 25,
   "metadata": {},
   "outputs": [
    {
     "name": "stdout",
     "output_type": "stream",
     "text": [
      "[300, 350, 5]\n"
     ]
    }
   ],
   "source": [
    "print(reps)"
   ]
  },
  {
   "cell_type": "code",
   "execution_count": 27,
   "metadata": {},
   "outputs": [
    {
     "data": {
      "text/plain": [
       "array([300, 305, 310, 315, 320, 325, 330, 335, 340, 345, 350])"
      ]
     },
     "execution_count": 27,
     "metadata": {},
     "output_type": "execute_result"
    }
   ],
   "source": []
  },
  {
   "cell_type": "code",
   "execution_count": null,
   "metadata": {},
   "outputs": [],
   "source": []
  }
 ],
 "metadata": {
  "kernelspec": {
   "display_name": "Python 3",
   "language": "python",
   "name": "python3"
  },
  "language_info": {
   "codemirror_mode": {
    "name": "ipython",
    "version": 3
   },
   "file_extension": ".py",
   "mimetype": "text/x-python",
   "name": "python",
   "nbconvert_exporter": "python",
   "pygments_lexer": "ipython3",
   "version": "3.7.4"
  }
 },
 "nbformat": 4,
 "nbformat_minor": 4
}
