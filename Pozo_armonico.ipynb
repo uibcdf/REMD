{
 "cells": [
  {
   "cell_type": "markdown",
   "metadata": {},
   "source": [
    "# Harmonic well"
   ]
  },
  {
   "cell_type": "code",
   "execution_count": null,
   "metadata": {},
   "outputs": [],
   "source": [
    "from uibcdf_test_systems import DoubleWell\n",
    "from uibcdf_test_systems.simulation import langevin_NVT\n",
    "from uibcdf_test_systems.analysis import get_probability_density"
   ]
  },
  {
   "cell_type": "markdown",
   "metadata": {},
   "source": [
    "\\begin{equation}\n",
    "P(x)=\\frac{1}{Z_{x}} e^{-\\frac{kx^{2}}{2k_{B}T}}\n",
    "\\end{equation}\n",
    "\n",
    "\\begin{equation}\n",
    "Z_{x} = \\int_{-\\infty}^{\\infty} e^{-\\frac{kx^{2}}{2k_{B}T}} dx = \\sqrt{\\frac{2\\pi k_{B}T}{k}} \n",
    "\\end{equation}\n",
    "\n",
    "Ya que la integral gaussiana es soluble analíticamente:\n",
    "\n",
    "\\begin{equation}\n",
    "\\int_{-\\infty}^{\\infty} e^{-a x^{2}} dx = \\sqrt{\\frac{\\pi}{a}} \n",
    "\\end{equation}\n",
    "\n",
    "Así que:\n",
    "\n",
    "\\begin{equation}\n",
    "P(x)=\\sqrt{\\frac{k}{2\\pi k_{B}T}} e^{-\\frac{kx^{2}}{2k_{B}T}}\n",
    "\\end{equation}\n",
    "\n",
    "Podemos calcular la posición promedio:\n",
    "\n",
    "\\begin{equation}\n",
    "\\langle x \\rangle = \\int_{-\\infty}^{\\infty} x P(x)dx =\n",
    "\\sqrt{\\frac{k}{2\\pi k_{B}T}} \\int_{-\\infty}^{\\infty} x e^{-\\frac{kx^{2}}{2k_{B}T}} dx = 0\n",
    "\\end{equation}\n",
    "\n",
    "Porque la integral de un momento impar de la distribución gaussiana es $0$:\n",
    "\n",
    "\\begin{equation}\n",
    "\\int_{-\\infty}^{\\infty} x^{n} e^{-a x^{2}} dx = 0 \\hspace{20pt} n=1,3,5,\\dots\n",
    "\\end{equation}\n",
    "\n",
    "Y por último, con ayuda de la integral del segundo momento de la distribución gaussiana,\n",
    "\n",
    "\\begin{equation}\n",
    "\\int_{-\\infty}^{\\infty} x^{2} e^{-a x^{2}} dx = \\frac{\\pi^{1/2}}{2a^{3/2}} \n",
    "\\end{equation}\n",
    "\n",
    "podemos calcular la desviación cuadrática estandard:\n",
    "\n",
    "\\begin{equation}\n",
    "\\sigma^{2} = \\langle \\left(\\langle x \\rangle- x \\right)^{2} \\rangle =\n",
    "\\int_{-\\infty}^{\\infty} {x^{2} P(x)dx} = \n",
    "\\sqrt{\\frac{k}{2\\pi k_{B}T}} \\int_{-\\infty}^{\\infty} x^{2} e^{-\\frac{kx^{2}}{2k_{B}T}} dx =\n",
    "\\frac{k^{1/2}}{\\pi^{1/2}(2k_{B}T)^{1/2}} \\frac{(2k_{B}T)^{3/2}\\pi^{1/2}}{2k^{3/2}} =\n",
    "\\frac{k_{B}T}{k} \n",
    "\\end{equation}\n",
    "\n",
    "Ya vemos entonces que la energía potencial promedio de un oscilador armónico es:\n",
    "\n",
    "\\begin{equation}\n",
    "<U(x)> = \\frac{1}{2}k<x^{2}> = \\frac{1}{2} k_{B}T\n",
    "\\end{equation}\n",
    "\n",
    "Y dado que sabemos que la energía cinética promedio es también:\n",
    "\n",
    "\\begin{equation}\n",
    "<K(v_{x})> = \\frac{1}{2}m<v^{2}> = \\frac{1}{2} k_{B}T\n",
    "\\end{equation}\n",
    "\n",
    "La energía total promedio de un oscilador unidimensional es:\n",
    "\n",
    "\\begin{equation}\n",
    "<U(x) + K(v_{x})> = k_{B}T\n",
    "\\end{equation}"
   ]
  },
  {
   "cell_type": "code",
   "execution_count": null,
   "metadata": {},
   "outputs": [],
   "source": []
  }
 ],
 "metadata": {
  "kernelspec": {
   "display_name": "Python 3",
   "language": "python",
   "name": "python3"
  },
  "language_info": {
   "codemirror_mode": {
    "name": "ipython",
    "version": 3
   },
   "file_extension": ".py",
   "mimetype": "text/x-python",
   "name": "python",
   "nbconvert_exporter": "python",
   "pygments_lexer": "ipython3",
   "version": "3.7.6"
  }
 },
 "nbformat": 4,
 "nbformat_minor": 4
}
