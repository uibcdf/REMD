{
 "cells": [
  {
   "cell_type": "code",
   "execution_count": 1,
   "metadata": {},
   "outputs": [],
   "source": [
    "%load_ext autoreload\n",
    "%autoreload 2"
   ]
  },
  {
   "cell_type": "code",
   "execution_count": 6,
   "metadata": {},
   "outputs": [],
   "source": [
    "import numpy as np\n",
    "import sympy as sy\n",
    "import matplotlib.pyplot as plt\n",
    "import simtk.openmm as mm\n",
    "import simtk.unit as unit\n",
    "import simtk.openmm.app as app\n",
    "from tqdm import tqdm"
   ]
  },
  {
   "cell_type": "markdown",
   "metadata": {},
   "source": [
    "# Harmonic well"
   ]
  },
  {
   "cell_type": "code",
   "execution_count": 2,
   "metadata": {},
   "outputs": [],
   "source": [
    "from uibcdf_test_systems import HarmonicWell\n",
    "from uibcdf_test_systems.simulation import langevin_NVT\n",
    "from uibcdf_test_systems.analysis import get_probability_density"
   ]
  },
  {
   "cell_type": "markdown",
   "metadata": {},
   "source": [
    "\\begin{equation}\n",
    "P(x)=\\frac{1}{Z_{x}} e^{-\\frac{kx^{2}}{2k_{B}T}}\n",
    "\\end{equation}\n",
    "\n",
    "\\begin{equation}\n",
    "Z_{x} = \\int_{-\\infty}^{\\infty} e^{-\\frac{kx^{2}}{2k_{B}T}} dx = \\sqrt{\\frac{2\\pi k_{B}T}{k}} \n",
    "\\end{equation}\n",
    "\n",
    "Ya que la integral gaussiana es soluble analíticamente:\n",
    "\n",
    "\\begin{equation}\n",
    "\\int_{-\\infty}^{\\infty} e^{-a x^{2}} dx = \\sqrt{\\frac{\\pi}{a}} \n",
    "\\end{equation}\n",
    "\n",
    "Así que:\n",
    "\n",
    "\\begin{equation}\n",
    "P(x)=\\sqrt{\\frac{k}{2\\pi k_{B}T}} e^{-\\frac{kx^{2}}{2k_{B}T}}\n",
    "\\end{equation}\n",
    "\n",
    "Podemos calcular la posición promedio:\n",
    "\n",
    "\\begin{equation}\n",
    "\\langle x \\rangle = \\int_{-\\infty}^{\\infty} x P(x)dx =\n",
    "\\sqrt{\\frac{k}{2\\pi k_{B}T}} \\int_{-\\infty}^{\\infty} x e^{-\\frac{kx^{2}}{2k_{B}T}} dx = 0\n",
    "\\end{equation}\n",
    "\n",
    "Porque la integral de un momento impar de la distribución gaussiana es $0$:\n",
    "\n",
    "\\begin{equation}\n",
    "\\int_{-\\infty}^{\\infty} x^{n} e^{-a x^{2}} dx = 0 \\hspace{20pt} n=1,3,5,\\dots\n",
    "\\end{equation}\n",
    "\n",
    "Y por último, con ayuda de la integral del segundo momento de la distribución gaussiana,\n",
    "\n",
    "\\begin{equation}\n",
    "\\int_{-\\infty}^{\\infty} x^{2} e^{-a x^{2}} dx = \\frac{\\pi^{1/2}}{2a^{3/2}} \n",
    "\\end{equation}\n",
    "\n",
    "podemos calcular la desviación cuadrática estandard:\n",
    "\n",
    "\\begin{equation}\n",
    "\\sigma^{2} = \\langle \\left(\\langle x \\rangle- x \\right)^{2} \\rangle =\n",
    "\\int_{-\\infty}^{\\infty} {x^{2} P(x)dx} = \n",
    "\\sqrt{\\frac{k}{2\\pi k_{B}T}} \\int_{-\\infty}^{\\infty} x^{2} e^{-\\frac{kx^{2}}{2k_{B}T}} dx =\n",
    "\\frac{k^{1/2}}{\\pi^{1/2}(2k_{B}T)^{1/2}} \\frac{(2k_{B}T)^{3/2}\\pi^{1/2}}{2k^{3/2}} =\n",
    "\\frac{k_{B}T}{k} \n",
    "\\end{equation}\n",
    "\n",
    "Ya vemos entonces que la energía potencial promedio de un oscilador armónico es:\n",
    "\n",
    "\\begin{equation}\n",
    "<U(x)> = \\frac{1}{2}k<x^{2}> = \\frac{1}{2} k_{B}T\n",
    "\\end{equation}\n",
    "\n",
    "Y dado que sabemos que la energía cinética promedio es también:\n",
    "\n",
    "\\begin{equation}\n",
    "<K(v_{x})> = \\frac{1}{2}m<v^{2}> = \\frac{1}{2} k_{B}T\n",
    "\\end{equation}\n",
    "\n",
    "La energía total promedio de un oscilador unidimensional es:\n",
    "\n",
    "\\begin{equation}\n",
    "<U(x) + K(v_{x})> = k_{B}T\n",
    "\\end{equation}"
   ]
  },
  {
   "cell_type": "markdown",
   "metadata": {},
   "source": [
    "Veamos si la predicción teórica corresponde a lo observado en una dinámica de langevin:"
   ]
  },
  {
   "cell_type": "markdown",
   "metadata": {},
   "source": [
    "Supongamos que tenemos una partícula de masa $m$ en un potencial de tipo pozo armónico:"
   ]
  },
  {
   "cell_type": "code",
   "execution_count": 7,
   "metadata": {},
   "outputs": [],
   "source": [
    "mass = (12.0*unit.amu *  16.0*unit.amu)/(12.0*unit.amu + 16.0*unit.amu) # Masa reducida de la molécula diatómica CO"
   ]
  },
  {
   "cell_type": "markdown",
   "metadata": {},
   "source": [
    "Aunque trabajaremos con una única dimensión, con la dimensión $X$, la simulación la vamos a hacer en tres dimensiones mediante el uso de OpenMM. Como veremos más adelante, es equivalente un sistema unidimensional de pozo armónico que observar únicamente una dimensión en el caso tridimensional. Esto sucede porque el hamiltoniano, la energía, puede descomponerse en dos sumandos: uno que únicamente depende de $x$ y otro que sólo es función de $y$ y $z$.\n",
    "\n",
    "Por ahora, definamos un potencial tridimensional de tipo armónico para que la partícula quede confinada en una región del espacio tridimensional:"
   ]
  },
  {
   "cell_type": "markdown",
   "metadata": {},
   "source": [
    "## El potencial armónico en $X$, $Y$ y $Z$."
   ]
  },
  {
   "cell_type": "markdown",
   "metadata": {},
   "source": [
    "El potencial armónico con el que vamos a trabajar es isométrico, dado que la forma de la parábola es la misma en las tres dimensiones, centrado en $x=0$, $y=0$ y $z=0$:\n",
    "\n",
    "\\begin{equation*}\n",
    "V(x,y,z) = \\frac{1}{2} k (x^{2}+y^{2}+z^{2})\n",
    "\\end{equation*}\n",
    "\n",
    "donde $k$ es da cuenta de la apertura de los brazos de la parábola. Más cerrados cuanto mayor es el valor de $k$. O visto de otra manera, la fuerza que describe este potencial es conocida como la ley de hook. Una fuerza tipo muelle en la que su magnitud es mayor conforme más nos alejamos de la posición de equilibrio, y su sentido es siempre el de llevar la partícula hacia dicha posición de equilibrio. Así $k$ es la constante de rigidez, o constante elástica, de un muelle:\n",
    "\n",
    "\\begin{equation*}\n",
    "\\vec{F}(x,y,z) = - \\vec{\\nabla} V(x,y,z) = \n",
    "- \\frac{\\delta V(x,y,z)}{\\delta x} \\hat{x} - \\frac{\\delta V(x,y,z)}{\\delta y} \\hat{y} - \\frac{\\delta V(x,y,z)}{\\delta z} \\hat{z} =\n",
    "- k\\vec{x}-k\\vec{y}-k\\vec{z}\n",
    "\\end{equation*}\n"
   ]
  },
  {
   "cell_type": "markdown",
   "metadata": {},
   "source": [
    "Démosle valor a la constante $k$ del muelle:"
   ]
  },
  {
   "cell_type": "code",
   "execution_count": 12,
   "metadata": {},
   "outputs": [],
   "source": [
    "k=20.0 * unit.kilocalories_per_mole/ unit.nanometers**2"
   ]
  },
  {
   "cell_type": "markdown",
   "metadata": {},
   "source": [
    "Y veamos la representación grafica del potencial en cualquiera de los tres ejes con ayuda de una serie de valores de coordenadas, $x$ por ejemplo, y sus correspondientes valores de contribución al potencial total:"
   ]
  },
  {
   "cell_type": "code",
   "execution_count": 13,
   "metadata": {},
   "outputs": [],
   "source": [
    "def potencial_armonico(x,k):\n",
    "    return 0.5*k*x**2"
   ]
  },
  {
   "cell_type": "code",
   "execution_count": 18,
   "metadata": {},
   "outputs": [],
   "source": [
    "x_serie = np.arange(-5., 5., 0.05) * unit.nanometers\n",
    "Vx_serie = potencial_armonico(x_serie, k)"
   ]
  },
  {
   "cell_type": "code",
   "execution_count": 19,
   "metadata": {},
   "outputs": [
    {
     "data": {
      "image/png": "[encoded data removed]",
      "text/plain": [
       "<Figure size 432x288 with 1 Axes>"
      ]
     },
     "metadata": {
      "needs_background": "light"
     },
     "output_type": "display_data"
    }
   ],
   "source": [
    "plt.plot(x_serie, Vx_serie, 'r-')\n",
    "plt.ylim(-1,7)\n",
    "plt.xlim(-1,1)\n",
    "plt.xlabel(\"x [{}]\".format(x_serie.unit.get_symbol()))\n",
    "plt.ylabel(\"V(x) [{}]\".format(Vx_serie.unit.get_symbol()))\n",
    "plt.rcParams['figure.figsize'] = 6,4\n",
    "plt.show()"
   ]
  },
  {
   "cell_type": "code",
   "execution_count": null,
   "metadata": {},
   "outputs": [],
   "source": []
  }
 ],
 "metadata": {
  "kernelspec": {
   "display_name": "Python 3",
   "language": "python",
   "name": "python3"
  },
  "language_info": {
   "codemirror_mode": {
    "name": "ipython",
    "version": 3
   },
   "file_extension": ".py",
   "mimetype": "text/x-python",
   "name": "python",
   "nbconvert_exporter": "python",
   "pygments_lexer": "ipython3",
   "version": "3.7.6"
  }
 },
 "nbformat": 4,
 "nbformat_minor": 4
}
